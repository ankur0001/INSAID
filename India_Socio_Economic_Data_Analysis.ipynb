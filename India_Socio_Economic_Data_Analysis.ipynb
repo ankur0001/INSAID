{
 "cells": [
  {
   "cell_type": "markdown",
   "metadata": {},
   "source": [
    "<img src=\"https://github.com/insaid2018/Term-1/blob/master/Images/INSAID_Full%20Logo.png?raw=true\" width=\"240\" height=\"360\" />\n",
    "# India Socio Economic Data "
   ]
  },
  {
   "cell_type": "markdown",
   "metadata": {
    "collapsed": true
   },
   "source": [
    "## Table of Contents\n",
    "\n",
    "1. [Problem Statement](#section1)<br>\n",
    "2. [Data Loading and Description](#section2)<br>\n",
    "    - 2.1 [Content](#section2_1)\n",
    "    - 2.2 [Importing packages](#section2_2)\n",
    "    - 2.3 [Preprocessing function](#section2_3)\n",
    "    - 2.4 [Importing the Dataset](#section2_4)\n",
    "3. [Data Profiling](#section3)<br>\n",
    "    - 3.1 [Understanding the Dataset](#section3_1)\n",
    "    - 3.2 [Pre Profiling](#section3_2)\n",
    "    - 3.3 [Preprocessing Section](#section3_3)\n",
    "        - 3.3.1 [Preprocessing](#section3_3_1)\n",
    "        - 3.3.2 [Merging the sheets](#section3_3_2)\n",
    "    - 3.4 [Post Pandas Profiling](#section3_4)\n",
    "    - 3.5 [Pre processing fuctions](#section3_5)\n",
    "4. [Questions](#section4)<br>\n",
    "    - 4.1 [State wise male and female population in India](#section4_1)\n",
    "    - 4.2 [Sex ratio of females per 1000 males in different states of India](#section4_2)\n",
    "    - 4.3 [Population of different types of age groups in India](#section4_3)\n",
    "    - 4.4 [Different age group percentage in India](#section4_4)\n",
    "    - 4.5 [Religion's distribution in India](#section4_5)\n",
    "    - 4.6 [State wise SC populations percentage in India](#section4_6)\n",
    "    - 4.7 [State wise ST populations percentage in India](#section4_7)\n",
    "    - 4.8 [Literacy Rate in different states of India](#section4_8)\n",
    "    - 4.9 [Populations of different Types of Workers In different states of India](#section4_9)\n",
    "    - 4.10 [Populations of different Types of Workers In different states of India](#section4_10)\n",
    "    - 4.11 [State wise house hold size in different states of India](#section4_11)\n",
    "    - 4.12 [State wise population percentage having different drinking water source in India](#section4_12)\n",
    "    - 4.13 [State wise Total GDP over the years](#section4_13)\n",
    "    - 4.14 [constant 10 max GDP over the years District Level](#section4_14)\n",
    "    - 4.15 [constant 10 min GDP over the years District Level](#section4_15)\n",
    "    - 4.16 [constant 10 max GR over the years with respect to '2005-06' District Level](#section4_16)\n",
    "    - 4.17 [constant 10 min GR over the years with respect to 2005-06 year District Level](#section4_17)\n",
    "    - 4.18 [Constant 10 max/min GDP over the years, why?](#section4_18)\n",
    "        - 4.18.0 [Pre defined Functions](#section4_18_0)\n",
    "        - 4.18.1 [Area](#section4_18_1)\n",
    "        - 4.18.2 [Population](#section4_18_2)\n",
    "        - 4.18.3 [Workers](#section4_18_3)\n",
    "            - \ta) [Total](#section4_18_3a)\n",
    "            - \tb) ['MALE_WORKERS','FEMALE_WORKERS'](#section4_18_3b)\n",
    "            - \tc) [Type of Workers](#section4_18_3c)\n",
    "        - 4.18.4 [Household](#section4_18_4)\n",
    "            - \ta) [Facility of household](#section4_18_4a)\n",
    "            - \tb) [Resource of household](#section4_18_4b)\n",
    "            - \tc) [ownership of household](#section4_18_4c)\n",
    "            - \td) [size of household](#section4_18_4d)\n",
    "            - \te) [couple of household](#section4_18_4e)\n",
    "        - 4.18.5 [based on Age Group](#section4_18_5)\n",
    "        - 4.18.6 [based on power parity](#section4_18_6)\n",
    "    - 4.19 [constant 10 max/min growth rate over the years, why ?](#section4_19)\n",
    "        - 4.19.1 [Area](#section4_19_1)\n",
    "        - 4.19.2 [Population](#section4_19_2)\n",
    "        - 4.19.3 [Literacy](#section4_19_3)\n",
    "        - 4.19.4 [Sex Ratio](#section4_19_4)\n",
    "        - 4.19.5 [% SC/ST Population](#section4_19_5)\n",
    "5. [Conclusion](#section5)<br>"
   ]
  },
  {
   "cell_type": "markdown",
   "metadata": {},
   "source": [
    "<a id=section1></a>"
   ]
  },
  {
   "cell_type": "markdown",
   "metadata": {},
   "source": [
    "## 1. Problem Statement"
   ]
  },
  {
   "cell_type": "markdown",
   "metadata": {},
   "source": [
    "#### India Socio Economic Data\n",
    "##### Population data, housing data, and socio economic data for each district\n",
    "\n",
    "2011 India census data. Includes population/demographic data , housing data and socio economic data for each district.\n",
    "- What are the socioeconomic trends in different parts of India?\n",
    "###### Source\n",
    "- 'https://toolbox.google.com/datasetsearch/search?query=India%20Economic%20Data&docid=Qvjovv1g0RCl60t1AAAAAA%3D%3D'\n",
    "- https://www.kaggle.com/webaccess/all-census-data/"
   ]
  },
  {
   "cell_type": "markdown",
   "metadata": {},
   "source": [
    "<a id=section2></a>"
   ]
  },
  {
   "cell_type": "markdown",
   "metadata": {},
   "source": [
    "### 2. Data Loading and Description"
   ]
  },
  {
   "cell_type": "markdown",
   "metadata": {},
   "source": [
    "<a id=section2_1></a>"
   ]
  },
  {
   "cell_type": "markdown",
   "metadata": {},
   "source": [
    "##### 2.1 Content\n",
    "\n",
    "- india-districts-census-2011.csv - Population enumeration data with expanded columns.\n",
    "- india_census_housing-hlpca-full.csv - Housing statistics for total (rural + urban) population by district.\n",
    "- gdp_AndhraPradesh1.csv , gdp_AndhraPradesh2 : Contains GDP data for state AP.\n",
    "- gdp_ArunachalPradesh.csv: Contains GDP data for state ArunachalPradesh.\n",
    "- gdp_Assam1.csv, gdp_Assam2.csv : Contains GDP data for state Assam.\n",
    "- gdp_Bihar1.csv , gdp_Bihar2.csv : Contains GDP data for state Bihar.\n",
    "- gdp_Chattisgarh.csv : Contains GDP data for state Chattisgarh.\n",
    "- gdp_Haryana.csv : Contains GDP data for state Haryana.\n",
    "- gdp_HimachalPradesh.csv : Contains GDP data for state HimachalPradesh.\n",
    "- gdp_Jharkhand.csv : Contains GDP data for state Jharkhand.\n",
    "- gdp_Karnataka1.csv , gdp_Karnataka2.csv : Contains GDP data for state Karnataka.\n",
    "- gdp_Kerala1.csv , gdp_Kerala2.csv : Contains GDP data for state Kerala.\n",
    "- gdp_MadhyaPradesh.csv : Contains GDP data for state MadhyaPradesh.\n",
    "- gdp_Maharashtra1.csv , gdp_Maharashtra2.csv : Contains GDP data for state Maharashtra.\n",
    "- gdp_Manipur.csv : Contains GDP data for state Manipur.\n",
    "- gdp_Meghalaya.csv : Contains GDP data for state Meghalaya.\n",
    "- gdp_Mizoram.csv : Contains GDP data for state Mizoram.\n",
    "- gdp_Odisha1.csv , gdp_Odisha2.csv : Contains GDP data for state Odhisha.\n",
    "- gdp_Punjab1.csv , gdp_Punjab2.csv : Contains GDP data for state Punjab.\n",
    "- gdp_Rajasthan1.csv , gdp_Rajasthan2.csv : Contains GDP data for state Rajasthan.\n",
    "- gdp_Sikkim.csv : Contains GDP data for state Sikkim.\n",
    "- gdp_Tamilnadu.csv : Contains GDP data for state Tamilnadu.\n",
    "- gdp_Uttarakhand.csv : Contains GDP data for state Uttarakhand.\n",
    "- gdp_UttarPradesh1.csv , gdp_UttarPradesh2.csv : Contains GDP data for state UttarPradesh.\n",
    "- gdp_WestBengal1.csv , gdp_WestBengal2.csv : Contains GDP data for state West Bengal."
   ]
  },
  {
   "cell_type": "markdown",
   "metadata": {},
   "source": [
    "<a id=section2_1></a>"
   ]
  },
  {
   "cell_type": "markdown",
   "metadata": {},
   "source": [
    "#### 2.2 Importing packages                                          "
   ]
  },
  {
   "cell_type": "code",
   "execution_count": 1,
   "metadata": {
    "collapsed": true
   },
   "outputs": [],
   "source": [
    "import numpy as np\n",
    "import pandas as pd\n",
    "import pandas_profiling as pp\n",
    "import os\n",
    "import glob\n",
    "import seaborn as sns\n",
    "%matplotlib inline\n",
    "import matplotlib.pyplot as plt\n",
    "import plotly.plotly as py\n",
    "import plotly.graph_objs as go\n",
    "import warnings\n",
    "warnings.filterwarnings('ignore')"
   ]
  },
  {
   "cell_type": "markdown",
   "metadata": {},
   "source": [
    "<a id=section2_3></a>"
   ]
  },
  {
   "cell_type": "markdown",
   "metadata": {},
   "source": [
    "#### 2.3 Preprocessing function"
   ]
  },
  {
   "cell_type": "code",
   "execution_count": 2,
   "metadata": {
    "collapsed": true
   },
   "outputs": [],
   "source": [
    "def getCorrectState(stateName):\n",
    "    if(stateName=='AndhraPradesh'):\n",
    "        return 'ANDHRA PRADESH'\n",
    "    elif(stateName=='ArunachalPradesh'):\n",
    "        return 'ARUNACHAL PRADESH'\n",
    "    elif(stateName=='Assam'):\n",
    "        return 'ASSAM'\n",
    "    elif(stateName=='Bihar'):\n",
    "        return 'BIHAR'\n",
    "    elif(stateName=='Chattisgarh'):\n",
    "        return 'CHATTISGARH'\n",
    "    elif(stateName=='Haryana'):\n",
    "        return 'HARYANA'\n",
    "    elif(stateName=='HimachalPradesh'):\n",
    "        return 'HIMACHAL PRADESH'\n",
    "    elif(stateName=='Jharkhand'):\n",
    "        return 'JHARKHAND'\n",
    "    elif(stateName=='Karnataka'):\n",
    "        return 'KARNATAKA'\n",
    "    elif(stateName=='Kerala'):\n",
    "        return 'KERALA'\n",
    "    elif(stateName=='MadhyaPradesh'):\n",
    "        return 'MADHYA PRADESH'\n",
    "    elif(stateName=='Maharashtra'):\n",
    "        return 'MAHARASHTRA'\n",
    "    elif(stateName=='Manipur'):\n",
    "        return 'MANIPUR'\n",
    "    elif(stateName=='Meghalaya'):\n",
    "        return 'MEGHALAYA'\n",
    "    elif(stateName=='Mizoram'):\n",
    "        return 'MIZORAM'\n",
    "    elif(stateName=='Odisha'):\n",
    "        return 'ODISHA'\n",
    "    elif(stateName=='Punjab'):\n",
    "        return 'PUNJAB'\n",
    "    elif(stateName=='Rajasthan'):\n",
    "        return 'RAJASTHAN'\n",
    "    elif(stateName=='Sikkim'):\n",
    "        return 'SIKKIM'\n",
    "    elif(stateName=='Tamilnadu'):\n",
    "        return 'TAMIL NADU'\n",
    "    elif(stateName=='Uttarakhand'):\n",
    "        return 'UTTARAKHAND'\n",
    "    elif(stateName=='UttarPradesh'):\n",
    "        return 'UTTAR PRADESH'\n",
    "    elif(stateName=='WestBengal'):\n",
    "        return 'WEST BENGAL'"
   ]
  },
  {
   "cell_type": "markdown",
   "metadata": {},
   "source": [
    "<a id=section2_4></a>"
   ]
  },
  {
   "cell_type": "markdown",
   "metadata": {},
   "source": [
    "#### 2.4 Importing the Dataset"
   ]
  },
  {
   "cell_type": "code",
   "execution_count": 3,
   "metadata": {
    "collapsed": true
   },
   "outputs": [],
   "source": [
    "path = r\"E:\\DOCS\\DATA SCIENCE COURSE\\Project\\DATA SETS\\Indian Economic Data\\all-census-data\\states\" # use your path\n",
    "all_files = glob.glob(path + \"/*.csv\")\n",
    "\n",
    "India = {}\n",
    "India_GDP = {}\n",
    "India_GR = {}\n",
    "states =[]\n",
    "\n",
    "\n",
    "for filename in all_files:\n",
    "    stateName = os.path.basename(filename).strip(\"gdp_\").strip(\".csv\")\n",
    "    stateName = getCorrectState(stateName)\n",
    "    states.append(stateName)\n",
    "    India[stateName] = pd.read_csv(filename, index_col=None, header=0)\n",
    "    India[stateName] =India[stateName].transpose()\n",
    "    India_GDP[stateName] = India[stateName].loc[:,(India[stateName].iloc[1,:]==\"GDP (in Rs. Cr.)\")].iloc[2:,:]\n",
    "    India_GR[stateName] = India[stateName].loc[:,(India[stateName].iloc[1,:]==\"Growth Rate % (YoY)\")].iloc[2:,:]\n",
    "    India_GDP[stateName].columns =India[stateName].loc[:,(India[stateName].iloc[1,:]==\"GDP (in Rs. Cr.)\")].iloc[0,:].values\n",
    "    India_GR[stateName].columns = India[stateName].loc[:,(India[stateName].iloc[1,:]==\"Growth Rate % (YoY)\")].iloc[0,:].values\n",
    "    India_GDP[stateName]['STATE NAME'] = stateName\n",
    "    India_GDP[stateName]['DISTRICT NAME'] = India_GDP[stateName].index\n",
    "    India_GR[stateName]['STATE NAME'] = stateName\n",
    "    India_GR[stateName]['DISTRICT NAME'] = India_GR[stateName].index\n",
    "INDIA_GDP_dataset = pd.concat(India_GDP,ignore_index=True, sort=False)\n",
    "INDIA_GDP_dataset['STATE NAME'] = INDIA_GDP_dataset['STATE NAME'].str.upper()\n",
    "INDIA_GDP_dataset['DISTRICT NAME'] = INDIA_GDP_dataset['DISTRICT NAME'].str.upper()\n",
    "INDIA_GDP_dataset.set_index(['STATE NAME','DISTRICT NAME'],inplace = True)\n",
    "INDIA_GR_dataset = pd.concat(India_GR,ignore_index=True, sort=False)\n",
    "INDIA_GR_dataset['STATE NAME'] = INDIA_GR_dataset['STATE NAME'].str.upper()\n",
    "INDIA_GR_dataset['DISTRICT NAME'] = INDIA_GR_dataset['DISTRICT NAME'].str.upper()\n",
    "INDIA_GR_dataset.set_index(['STATE NAME','DISTRICT NAME'],inplace = True)\n",
    "\n",
    "dataset_elementry = pd.read_csv(r\"E:\\DOCS\\DATA SCIENCE COURSE\\Project\\DATA SETS\\Indian Economic Data\\all-census-data\\elementary_2015_16.csv\")\n",
    "dataset_housing = pd.read_csv(r\"E:\\DOCS\\DATA SCIENCE COURSE\\Project\\DATA SETS\\Indian Economic Data\\all-census-data\\india_census_housing-hlpca-full.csv\")\n",
    "dataset_cencus = pd.read_csv(r\"E:\\DOCS\\DATA SCIENCE COURSE\\Project\\DATA SETS\\Indian Economic Data\\all-census-data\\india-districts-census-2011.csv\")"
   ]
  },
  {
   "cell_type": "markdown",
   "metadata": {},
   "source": [
    "<a id=section3></a>"
   ]
  },
  {
   "cell_type": "markdown",
   "metadata": {},
   "source": [
    "### 3. Data Profiling"
   ]
  },
  {
   "cell_type": "markdown",
   "metadata": {},
   "source": [
    "- In the upcoming sections we will first __understand our dataset__ using various pandas functionalities.\n",
    "- Then with the help of __pandas profiling__ we will find which columns of our dataset need preprocessing.\n",
    "- In __preprocessing__ we will deal with erronous and missing values of columns. \n",
    "- Again we will do __pandas profiling__ to see how preprocessing have transformed our dataset."
   ]
  },
  {
   "cell_type": "markdown",
   "metadata": {},
   "source": [
    "<a id=section3_1></a>"
   ]
  },
  {
   "cell_type": "markdown",
   "metadata": {},
   "source": [
    "#### 3.1 Understanding the Dataset"
   ]
  },
  {
   "cell_type": "code",
   "execution_count": 4,
   "metadata": {},
   "outputs": [
    {
     "name": "stdout",
     "output_type": "stream",
     "text": [
      "INDIA_GDP_dataset.shape :  (529, 9)\n",
      "INDIA_GR_dataset.shape :  (529, 8)\n",
      "dataset_elementry.shape :  (680, 800)\n",
      "dataset_housing.shape :  (1908, 156)\n",
      "dataset_cencus.shape :  (640, 118)\n"
     ]
    }
   ],
   "source": [
    "print(\"INDIA_GDP_dataset.shape : \",INDIA_GDP_dataset.shape)\n",
    "print(\"INDIA_GR_dataset.shape : \",INDIA_GR_dataset.shape)\n",
    "print(\"dataset_elementry.shape : \",dataset_elementry.shape)\n",
    "print(\"dataset_housing.shape : \",dataset_housing.shape)\n",
    "print(\"dataset_cencus.shape : \",dataset_cencus.shape)"
   ]
  },
  {
   "cell_type": "code",
   "execution_count": 5,
   "metadata": {},
   "outputs": [
    {
     "data": {
      "text/plain": [
       "Index(['1999-00', '2000-01', '2001-02', '2002-03', '2003-04', '2004-05',\n",
       "       '2005-06', '2006-07', '2007-08'],\n",
       "      dtype='object')"
      ]
     },
     "execution_count": 5,
     "metadata": {},
     "output_type": "execute_result"
    }
   ],
   "source": [
    "INDIA_GDP_dataset.columns"
   ]
  },
  {
   "cell_type": "code",
   "execution_count": 6,
   "metadata": {},
   "outputs": [
    {
     "data": {
      "text/plain": [
       "Index(['2000-01', '2001-02', '2002-03', '2003-04', '2004-05', '2005-06',\n",
       "       '2006-07', '2007-08'],\n",
       "      dtype='object')"
      ]
     },
     "execution_count": 6,
     "metadata": {},
     "output_type": "execute_result"
    }
   ],
   "source": [
    "INDIA_GR_dataset.columns"
   ]
  },
  {
   "cell_type": "code",
   "execution_count": 7,
   "metadata": {},
   "outputs": [
    {
     "data": {
      "text/plain": [
       "Index(['Unnamed: 0', 'YEAR', 'STATE NAME', 'DISTRICT NAME', 'TOTAL POULATION',\n",
       "       'PERCENTAGE URBAN POPULATION', '0-6 POPULATION', 'GROWTH RATE',\n",
       "       'SEX RATIO', 'PERCENTAGE SC POPULATION',\n",
       "       ...\n",
       "       'ALL  (UUNI ALL)', 'SC (UUNI SC)', 'ST (UUNI ST)', '(TOTCLS1G)',\n",
       "       '(TOTCLS2G)', '(TOTCLS3G)', '(TOTCLS4G)', '(TOTCLS5G)', '(TOTCLS6G)',\n",
       "       '(TOTCLS7G)'],\n",
       "      dtype='object', length=800)"
      ]
     },
     "execution_count": 7,
     "metadata": {},
     "output_type": "execute_result"
    }
   ],
   "source": [
    "dataset_elementry.columns"
   ]
  },
  {
   "cell_type": "code",
   "execution_count": 8,
   "metadata": {},
   "outputs": [
    {
     "data": {
      "text/plain": [
       "Index(['State Code', 'State Name', 'District code', 'District Name',\n",
       "       'Tehsil Code', 'Tehsil Name', 'Town Code/Village code', 'Ward No',\n",
       "       'Area Name', 'Rural/Urban',\n",
       "       ...\n",
       "       'Contition_T_Total', 'Contition_T_Good', 'Contition_T_Livable',\n",
       "       'Contition_T_Dilapidated', 'Contition_R_Total', 'Residence_Good',\n",
       "       'Residence_Livable', 'Residence_Dilapidated', 'Residence_cum_other',\n",
       "       'Residence_cum_Good'],\n",
       "      dtype='object', length=156)"
      ]
     },
     "execution_count": 8,
     "metadata": {},
     "output_type": "execute_result"
    }
   ],
   "source": [
    "dataset_housing.columns"
   ]
  },
  {
   "cell_type": "code",
   "execution_count": 9,
   "metadata": {},
   "outputs": [
    {
     "data": {
      "text/plain": [
       "Index(['District code', 'State Name', 'District name', 'Population', 'Male',\n",
       "       'Female', 'Literate', 'Male_Literate', 'Female_Literate', 'SC',\n",
       "       ...\n",
       "       'Power_Parity_Rs_90000_150000', 'Power_Parity_Rs_45000_150000',\n",
       "       'Power_Parity_Rs_150000_240000', 'Power_Parity_Rs_240000_330000',\n",
       "       'Power_Parity_Rs_150000_330000', 'Power_Parity_Rs_330000_425000',\n",
       "       'Power_Parity_Rs_425000_545000', 'Power_Parity_Rs_330000_545000',\n",
       "       'Power_Parity_Above_Rs_545000', 'Total_Power_Parity'],\n",
       "      dtype='object', length=118)"
      ]
     },
     "execution_count": 9,
     "metadata": {},
     "output_type": "execute_result"
    }
   ],
   "source": [
    "dataset_cencus.columns"
   ]
  },
  {
   "cell_type": "code",
   "execution_count": 10,
   "metadata": {},
   "outputs": [
    {
     "name": "stdout",
     "output_type": "stream",
     "text": [
      "<class 'pandas.core.frame.DataFrame'>\n",
      "MultiIndex: 529 entries, (ANDHRA PRADESH,  ADILABAD) to (WEST BENGAL, UTTAR DINAJPUR)\n",
      "Data columns (total 9 columns):\n",
      "1999-00    518 non-null object\n",
      "2000-01    518 non-null object\n",
      "2001-02    518 non-null object\n",
      "2002-03    524 non-null object\n",
      "2003-04    524 non-null object\n",
      "2004-05    529 non-null object\n",
      "2005-06    491 non-null object\n",
      "2006-07    283 non-null object\n",
      "2007-08    62 non-null object\n",
      "dtypes: object(9)\n",
      "memory usage: 43.2+ KB\n"
     ]
    }
   ],
   "source": [
    "INDIA_GDP_dataset.info()"
   ]
  },
  {
   "cell_type": "code",
   "execution_count": 11,
   "metadata": {},
   "outputs": [
    {
     "name": "stdout",
     "output_type": "stream",
     "text": [
      "<class 'pandas.core.frame.DataFrame'>\n",
      "MultiIndex: 529 entries, (ANDHRA PRADESH,  ADILABAD) to (WEST BENGAL, UTTAR DINAJPUR)\n",
      "Data columns (total 8 columns):\n",
      "2000-01    518 non-null object\n",
      "2001-02    518 non-null object\n",
      "2002-03    518 non-null object\n",
      "2003-04    524 non-null object\n",
      "2004-05    524 non-null object\n",
      "2005-06    491 non-null object\n",
      "2006-07    283 non-null object\n",
      "2007-08    62 non-null object\n",
      "dtypes: object(8)\n",
      "memory usage: 39.0+ KB\n"
     ]
    }
   ],
   "source": [
    "INDIA_GR_dataset.info()"
   ]
  },
  {
   "cell_type": "code",
   "execution_count": 12,
   "metadata": {},
   "outputs": [
    {
     "name": "stdout",
     "output_type": "stream",
     "text": [
      "<class 'pandas.core.frame.DataFrame'>\n",
      "RangeIndex: 680 entries, 0 to 679\n",
      "Columns: 800 entries, Unnamed: 0 to (TOTCLS7G)\n",
      "dtypes: float64(13), int64(784), object(3)\n",
      "memory usage: 4.2+ MB\n"
     ]
    }
   ],
   "source": [
    "dataset_elementry.info()"
   ]
  },
  {
   "cell_type": "code",
   "execution_count": 13,
   "metadata": {},
   "outputs": [
    {
     "name": "stdout",
     "output_type": "stream",
     "text": [
      "<class 'pandas.core.frame.DataFrame'>\n",
      "RangeIndex: 1908 entries, 0 to 1907\n",
      "Columns: 156 entries, State Code to Residence_cum_Good\n",
      "dtypes: float64(142), int64(9), object(5)\n",
      "memory usage: 2.3+ MB\n"
     ]
    }
   ],
   "source": [
    "dataset_housing.info()"
   ]
  },
  {
   "cell_type": "code",
   "execution_count": 14,
   "metadata": {},
   "outputs": [
    {
     "name": "stdout",
     "output_type": "stream",
     "text": [
      "<class 'pandas.core.frame.DataFrame'>\n",
      "RangeIndex: 640 entries, 0 to 639\n",
      "Columns: 118 entries, District code to Total_Power_Parity\n",
      "dtypes: int64(116), object(2)\n",
      "memory usage: 590.1+ KB\n"
     ]
    }
   ],
   "source": [
    "dataset_cencus.info()"
   ]
  },
  {
   "cell_type": "code",
   "execution_count": 15,
   "metadata": {},
   "outputs": [
    {
     "data": {
      "text/html": [
       "<div>\n",
       "<style scoped>\n",
       "    .dataframe tbody tr th:only-of-type {\n",
       "        vertical-align: middle;\n",
       "    }\n",
       "\n",
       "    .dataframe tbody tr th {\n",
       "        vertical-align: top;\n",
       "    }\n",
       "\n",
       "    .dataframe thead th {\n",
       "        text-align: right;\n",
       "    }\n",
       "</style>\n",
       "<table border=\"1\" class=\"dataframe\">\n",
       "  <thead>\n",
       "    <tr style=\"text-align: right;\">\n",
       "      <th></th>\n",
       "      <th>1999-00</th>\n",
       "      <th>2000-01</th>\n",
       "      <th>2001-02</th>\n",
       "      <th>2002-03</th>\n",
       "      <th>2003-04</th>\n",
       "      <th>2004-05</th>\n",
       "      <th>2005-06</th>\n",
       "      <th>2006-07</th>\n",
       "      <th>2007-08</th>\n",
       "    </tr>\n",
       "  </thead>\n",
       "  <tbody>\n",
       "    <tr>\n",
       "      <th>count</th>\n",
       "      <td>518.00</td>\n",
       "      <td>518.00</td>\n",
       "      <td>518.00</td>\n",
       "      <td>524.00</td>\n",
       "      <td>524.00</td>\n",
       "      <td>529.00</td>\n",
       "      <td>491.00</td>\n",
       "      <td>283.00</td>\n",
       "      <td>62.00</td>\n",
       "    </tr>\n",
       "    <tr>\n",
       "      <th>unique</th>\n",
       "      <td>518.00</td>\n",
       "      <td>518.00</td>\n",
       "      <td>518.00</td>\n",
       "      <td>524.00</td>\n",
       "      <td>524.00</td>\n",
       "      <td>529.00</td>\n",
       "      <td>491.00</td>\n",
       "      <td>283.00</td>\n",
       "      <td>62.00</td>\n",
       "    </tr>\n",
       "    <tr>\n",
       "      <th>top</th>\n",
       "      <td>2047.83</td>\n",
       "      <td>1122.26</td>\n",
       "      <td>3071.17</td>\n",
       "      <td>3071.81</td>\n",
       "      <td>2916.06</td>\n",
       "      <td>6133.54</td>\n",
       "      <td>2046.93</td>\n",
       "      <td>8248.53</td>\n",
       "      <td>2686.84</td>\n",
       "    </tr>\n",
       "    <tr>\n",
       "      <th>freq</th>\n",
       "      <td>1.00</td>\n",
       "      <td>1.00</td>\n",
       "      <td>1.00</td>\n",
       "      <td>1.00</td>\n",
       "      <td>1.00</td>\n",
       "      <td>1.00</td>\n",
       "      <td>1.00</td>\n",
       "      <td>1.00</td>\n",
       "      <td>1.00</td>\n",
       "    </tr>\n",
       "  </tbody>\n",
       "</table>\n",
       "</div>"
      ],
      "text/plain": [
       "        1999-00  2000-01  2001-02  2002-03  2003-04  2004-05  2005-06  \\\n",
       "count    518.00   518.00   518.00   524.00   524.00   529.00   491.00   \n",
       "unique   518.00   518.00   518.00   524.00   524.00   529.00   491.00   \n",
       "top     2047.83  1122.26  3071.17  3071.81  2916.06  6133.54  2046.93   \n",
       "freq       1.00     1.00     1.00     1.00     1.00     1.00     1.00   \n",
       "\n",
       "        2006-07  2007-08  \n",
       "count    283.00    62.00  \n",
       "unique   283.00    62.00  \n",
       "top     8248.53  2686.84  \n",
       "freq       1.00     1.00  "
      ]
     },
     "execution_count": 15,
     "metadata": {},
     "output_type": "execute_result"
    }
   ],
   "source": [
    "INDIA_GDP_dataset.describe()"
   ]
  },
  {
   "cell_type": "code",
   "execution_count": 16,
   "metadata": {},
   "outputs": [
    {
     "data": {
      "text/html": [
       "<div>\n",
       "<style scoped>\n",
       "    .dataframe tbody tr th:only-of-type {\n",
       "        vertical-align: middle;\n",
       "    }\n",
       "\n",
       "    .dataframe tbody tr th {\n",
       "        vertical-align: top;\n",
       "    }\n",
       "\n",
       "    .dataframe thead th {\n",
       "        text-align: right;\n",
       "    }\n",
       "</style>\n",
       "<table border=\"1\" class=\"dataframe\">\n",
       "  <thead>\n",
       "    <tr style=\"text-align: right;\">\n",
       "      <th></th>\n",
       "      <th>2000-01</th>\n",
       "      <th>2001-02</th>\n",
       "      <th>2002-03</th>\n",
       "      <th>2003-04</th>\n",
       "      <th>2004-05</th>\n",
       "      <th>2005-06</th>\n",
       "      <th>2006-07</th>\n",
       "      <th>2007-08</th>\n",
       "    </tr>\n",
       "  </thead>\n",
       "  <tbody>\n",
       "    <tr>\n",
       "      <th>count</th>\n",
       "      <td>518.000000</td>\n",
       "      <td>518.000000</td>\n",
       "      <td>518.000000</td>\n",
       "      <td>524.000000</td>\n",
       "      <td>524.000000</td>\n",
       "      <td>491.000000</td>\n",
       "      <td>283.000000</td>\n",
       "      <td>62.000000</td>\n",
       "    </tr>\n",
       "    <tr>\n",
       "      <th>unique</th>\n",
       "      <td>518.000000</td>\n",
       "      <td>518.000000</td>\n",
       "      <td>518.000000</td>\n",
       "      <td>524.000000</td>\n",
       "      <td>524.000000</td>\n",
       "      <td>491.000000</td>\n",
       "      <td>283.000000</td>\n",
       "      <td>62.000000</td>\n",
       "    </tr>\n",
       "    <tr>\n",
       "      <th>top</th>\n",
       "      <td>-1.790246</td>\n",
       "      <td>-1.187367</td>\n",
       "      <td>-1.394042</td>\n",
       "      <td>-1.996674</td>\n",
       "      <td>-1.353287</td>\n",
       "      <td>-1.620948</td>\n",
       "      <td>-1.337139</td>\n",
       "      <td>3.422112</td>\n",
       "    </tr>\n",
       "    <tr>\n",
       "      <th>freq</th>\n",
       "      <td>1.000000</td>\n",
       "      <td>1.000000</td>\n",
       "      <td>1.000000</td>\n",
       "      <td>1.000000</td>\n",
       "      <td>1.000000</td>\n",
       "      <td>1.000000</td>\n",
       "      <td>1.000000</td>\n",
       "      <td>1.000000</td>\n",
       "    </tr>\n",
       "  </tbody>\n",
       "</table>\n",
       "</div>"
      ],
      "text/plain": [
       "           2000-01     2001-02     2002-03     2003-04     2004-05  \\\n",
       "count   518.000000  518.000000  518.000000  524.000000  524.000000   \n",
       "unique  518.000000  518.000000  518.000000  524.000000  524.000000   \n",
       "top      -1.790246   -1.187367   -1.394042   -1.996674   -1.353287   \n",
       "freq      1.000000    1.000000    1.000000    1.000000    1.000000   \n",
       "\n",
       "           2005-06     2006-07    2007-08  \n",
       "count   491.000000  283.000000  62.000000  \n",
       "unique  491.000000  283.000000  62.000000  \n",
       "top      -1.620948   -1.337139   3.422112  \n",
       "freq      1.000000    1.000000   1.000000  "
      ]
     },
     "execution_count": 16,
     "metadata": {},
     "output_type": "execute_result"
    }
   ],
   "source": [
    "INDIA_GR_dataset.describe()"
   ]
  },
  {
   "cell_type": "code",
   "execution_count": 17,
   "metadata": {},
   "outputs": [
    {
     "data": {
      "text/html": [
       "<div>\n",
       "<style scoped>\n",
       "    .dataframe tbody tr th:only-of-type {\n",
       "        vertical-align: middle;\n",
       "    }\n",
       "\n",
       "    .dataframe tbody tr th {\n",
       "        vertical-align: top;\n",
       "    }\n",
       "\n",
       "    .dataframe thead th {\n",
       "        text-align: right;\n",
       "    }\n",
       "</style>\n",
       "<table border=\"1\" class=\"dataframe\">\n",
       "  <thead>\n",
       "    <tr style=\"text-align: right;\">\n",
       "      <th></th>\n",
       "      <th>Unnamed: 0</th>\n",
       "      <th>TOTAL POULATION</th>\n",
       "      <th>PERCENTAGE URBAN POPULATION</th>\n",
       "      <th>0-6 POPULATION</th>\n",
       "      <th>GROWTH RATE</th>\n",
       "      <th>SEX RATIO</th>\n",
       "      <th>PERCENTAGE SC POPULATION</th>\n",
       "      <th>PERCENTAGE ST POPULATION</th>\n",
       "      <th>OVERALL LITERACY</th>\n",
       "      <th>FEMALE LITERACY</th>\n",
       "      <th>...</th>\n",
       "      <th>ALL  (UUNI ALL)</th>\n",
       "      <th>SC (UUNI SC)</th>\n",
       "      <th>ST (UUNI ST)</th>\n",
       "      <th>(TOTCLS1G)</th>\n",
       "      <th>(TOTCLS2G)</th>\n",
       "      <th>(TOTCLS3G)</th>\n",
       "      <th>(TOTCLS4G)</th>\n",
       "      <th>(TOTCLS5G)</th>\n",
       "      <th>(TOTCLS6G)</th>\n",
       "      <th>(TOTCLS7G)</th>\n",
       "    </tr>\n",
       "  </thead>\n",
       "  <tbody>\n",
       "    <tr>\n",
       "      <th>count</th>\n",
       "      <td>680.000000</td>\n",
       "      <td>6.340000e+02</td>\n",
       "      <td>631.000000</td>\n",
       "      <td>6.330000e+02</td>\n",
       "      <td>634.000000</td>\n",
       "      <td>634.000000</td>\n",
       "      <td>633.000000</td>\n",
       "      <td>633.000000</td>\n",
       "      <td>634.000000</td>\n",
       "      <td>637.000000</td>\n",
       "      <td>...</td>\n",
       "      <td>680.000000</td>\n",
       "      <td>680.000000</td>\n",
       "      <td>680.000000</td>\n",
       "      <td>680.000000</td>\n",
       "      <td>680.000000</td>\n",
       "      <td>680.000000</td>\n",
       "      <td>680.000000</td>\n",
       "      <td>680.000000</td>\n",
       "      <td>680.000000</td>\n",
       "      <td>680.000000</td>\n",
       "    </tr>\n",
       "    <tr>\n",
       "      <th>mean</th>\n",
       "      <td>339.500000</td>\n",
       "      <td>1.899024e+06</td>\n",
       "      <td>24.819255</td>\n",
       "      <td>2.494264e+05</td>\n",
       "      <td>17.627886</td>\n",
       "      <td>942.678233</td>\n",
       "      <td>14.875340</td>\n",
       "      <td>17.520190</td>\n",
       "      <td>73.395189</td>\n",
       "      <td>64.635840</td>\n",
       "      <td>...</td>\n",
       "      <td>46465.307353</td>\n",
       "      <td>11444.252941</td>\n",
       "      <td>5485.394118</td>\n",
       "      <td>4530.914706</td>\n",
       "      <td>3180.994118</td>\n",
       "      <td>764.154412</td>\n",
       "      <td>898.879412</td>\n",
       "      <td>391.352941</td>\n",
       "      <td>717.679412</td>\n",
       "      <td>385.957353</td>\n",
       "    </tr>\n",
       "    <tr>\n",
       "      <th>std</th>\n",
       "      <td>196.443376</td>\n",
       "      <td>1.547475e+06</td>\n",
       "      <td>19.093744</td>\n",
       "      <td>1.985112e+05</td>\n",
       "      <td>11.346020</td>\n",
       "      <td>62.415774</td>\n",
       "      <td>9.149862</td>\n",
       "      <td>26.872823</td>\n",
       "      <td>10.098460</td>\n",
       "      <td>12.476193</td>\n",
       "      <td>...</td>\n",
       "      <td>57485.560854</td>\n",
       "      <td>16548.586787</td>\n",
       "      <td>9455.045146</td>\n",
       "      <td>3881.154776</td>\n",
       "      <td>3332.333288</td>\n",
       "      <td>1330.305834</td>\n",
       "      <td>1425.313485</td>\n",
       "      <td>820.868908</td>\n",
       "      <td>1194.616699</td>\n",
       "      <td>935.196354</td>\n",
       "    </tr>\n",
       "    <tr>\n",
       "      <th>min</th>\n",
       "      <td>0.000000</td>\n",
       "      <td>7.948000e+03</td>\n",
       "      <td>-25.350000</td>\n",
       "      <td>1.103980e+03</td>\n",
       "      <td>-58.390000</td>\n",
       "      <td>533.000000</td>\n",
       "      <td>0.000000</td>\n",
       "      <td>0.000000</td>\n",
       "      <td>37.220000</td>\n",
       "      <td>30.970000</td>\n",
       "      <td>...</td>\n",
       "      <td>0.000000</td>\n",
       "      <td>0.000000</td>\n",
       "      <td>0.000000</td>\n",
       "      <td>24.000000</td>\n",
       "      <td>0.000000</td>\n",
       "      <td>0.000000</td>\n",
       "      <td>0.000000</td>\n",
       "      <td>0.000000</td>\n",
       "      <td>0.000000</td>\n",
       "      <td>0.000000</td>\n",
       "    </tr>\n",
       "    <tr>\n",
       "      <th>25%</th>\n",
       "      <td>169.750000</td>\n",
       "      <td>8.226940e+05</td>\n",
       "      <td>11.375000</td>\n",
       "      <td>1.087804e+05</td>\n",
       "      <td>12.052500</td>\n",
       "      <td>904.250000</td>\n",
       "      <td>7.500000</td>\n",
       "      <td>0.360000</td>\n",
       "      <td>66.437500</td>\n",
       "      <td>56.030000</td>\n",
       "      <td>...</td>\n",
       "      <td>7534.000000</td>\n",
       "      <td>736.750000</td>\n",
       "      <td>165.250000</td>\n",
       "      <td>1903.750000</td>\n",
       "      <td>674.750000</td>\n",
       "      <td>68.000000</td>\n",
       "      <td>17.000000</td>\n",
       "      <td>17.000000</td>\n",
       "      <td>137.000000</td>\n",
       "      <td>20.750000</td>\n",
       "    </tr>\n",
       "    <tr>\n",
       "      <th>50%</th>\n",
       "      <td>339.500000</td>\n",
       "      <td>1.564392e+06</td>\n",
       "      <td>19.500000</td>\n",
       "      <td>2.040779e+05</td>\n",
       "      <td>17.055000</td>\n",
       "      <td>946.000000</td>\n",
       "      <td>15.760000</td>\n",
       "      <td>4.180000</td>\n",
       "      <td>73.490000</td>\n",
       "      <td>63.880000</td>\n",
       "      <td>...</td>\n",
       "      <td>32185.500000</td>\n",
       "      <td>6816.500000</td>\n",
       "      <td>1321.000000</td>\n",
       "      <td>3555.000000</td>\n",
       "      <td>1922.500000</td>\n",
       "      <td>249.500000</td>\n",
       "      <td>129.500000</td>\n",
       "      <td>70.500000</td>\n",
       "      <td>407.000000</td>\n",
       "      <td>115.500000</td>\n",
       "    </tr>\n",
       "    <tr>\n",
       "      <th>75%</th>\n",
       "      <td>509.250000</td>\n",
       "      <td>2.587520e+06</td>\n",
       "      <td>32.420000</td>\n",
       "      <td>3.378675e+05</td>\n",
       "      <td>22.740000</td>\n",
       "      <td>981.000000</td>\n",
       "      <td>20.800000</td>\n",
       "      <td>21.260000</td>\n",
       "      <td>80.815000</td>\n",
       "      <td>73.570000</td>\n",
       "      <td>...</td>\n",
       "      <td>60492.750000</td>\n",
       "      <td>15300.500000</td>\n",
       "      <td>6183.500000</td>\n",
       "      <td>5944.250000</td>\n",
       "      <td>4870.500000</td>\n",
       "      <td>887.750000</td>\n",
       "      <td>1383.000000</td>\n",
       "      <td>462.000000</td>\n",
       "      <td>824.500000</td>\n",
       "      <td>319.500000</td>\n",
       "    </tr>\n",
       "    <tr>\n",
       "      <th>max</th>\n",
       "      <td>679.000000</td>\n",
       "      <td>1.105413e+07</td>\n",
       "      <td>100.000000</td>\n",
       "      <td>1.256855e+06</td>\n",
       "      <td>111.010000</td>\n",
       "      <td>1176.000000</td>\n",
       "      <td>50.170000</td>\n",
       "      <td>98.580000</td>\n",
       "      <td>98.760000</td>\n",
       "      <td>98.280000</td>\n",
       "      <td>...</td>\n",
       "      <td>511213.000000</td>\n",
       "      <td>153047.000000</td>\n",
       "      <td>68723.000000</td>\n",
       "      <td>24728.000000</td>\n",
       "      <td>25677.000000</td>\n",
       "      <td>16053.000000</td>\n",
       "      <td>8590.000000</td>\n",
       "      <td>8074.000000</td>\n",
       "      <td>15458.000000</td>\n",
       "      <td>11904.000000</td>\n",
       "    </tr>\n",
       "  </tbody>\n",
       "</table>\n",
       "<p>8 rows × 797 columns</p>\n",
       "</div>"
      ],
      "text/plain": [
       "       Unnamed: 0  TOTAL POULATION  PERCENTAGE URBAN POPULATION  \\\n",
       "count  680.000000     6.340000e+02                   631.000000   \n",
       "mean   339.500000     1.899024e+06                    24.819255   \n",
       "std    196.443376     1.547475e+06                    19.093744   \n",
       "min      0.000000     7.948000e+03                   -25.350000   \n",
       "25%    169.750000     8.226940e+05                    11.375000   \n",
       "50%    339.500000     1.564392e+06                    19.500000   \n",
       "75%    509.250000     2.587520e+06                    32.420000   \n",
       "max    679.000000     1.105413e+07                   100.000000   \n",
       "\n",
       "       0-6 POPULATION  GROWTH RATE    SEX RATIO  PERCENTAGE SC POPULATION  \\\n",
       "count    6.330000e+02   634.000000   634.000000                633.000000   \n",
       "mean     2.494264e+05    17.627886   942.678233                 14.875340   \n",
       "std      1.985112e+05    11.346020    62.415774                  9.149862   \n",
       "min      1.103980e+03   -58.390000   533.000000                  0.000000   \n",
       "25%      1.087804e+05    12.052500   904.250000                  7.500000   \n",
       "50%      2.040779e+05    17.055000   946.000000                 15.760000   \n",
       "75%      3.378675e+05    22.740000   981.000000                 20.800000   \n",
       "max      1.256855e+06   111.010000  1176.000000                 50.170000   \n",
       "\n",
       "       PERCENTAGE ST POPULATION  OVERALL LITERACY  FEMALE LITERACY  ...  \\\n",
       "count                633.000000        634.000000       637.000000  ...   \n",
       "mean                  17.520190         73.395189        64.635840  ...   \n",
       "std                   26.872823         10.098460        12.476193  ...   \n",
       "min                    0.000000         37.220000        30.970000  ...   \n",
       "25%                    0.360000         66.437500        56.030000  ...   \n",
       "50%                    4.180000         73.490000        63.880000  ...   \n",
       "75%                   21.260000         80.815000        73.570000  ...   \n",
       "max                   98.580000         98.760000        98.280000  ...   \n",
       "\n",
       "       ALL  (UUNI ALL)   SC (UUNI SC)  ST (UUNI ST)    (TOTCLS1G)  \\\n",
       "count       680.000000     680.000000    680.000000    680.000000   \n",
       "mean      46465.307353   11444.252941   5485.394118   4530.914706   \n",
       "std       57485.560854   16548.586787   9455.045146   3881.154776   \n",
       "min           0.000000       0.000000      0.000000     24.000000   \n",
       "25%        7534.000000     736.750000    165.250000   1903.750000   \n",
       "50%       32185.500000    6816.500000   1321.000000   3555.000000   \n",
       "75%       60492.750000   15300.500000   6183.500000   5944.250000   \n",
       "max      511213.000000  153047.000000  68723.000000  24728.000000   \n",
       "\n",
       "         (TOTCLS2G)    (TOTCLS3G)   (TOTCLS4G)   (TOTCLS5G)    (TOTCLS6G)  \\\n",
       "count    680.000000    680.000000   680.000000   680.000000    680.000000   \n",
       "mean    3180.994118    764.154412   898.879412   391.352941    717.679412   \n",
       "std     3332.333288   1330.305834  1425.313485   820.868908   1194.616699   \n",
       "min        0.000000      0.000000     0.000000     0.000000      0.000000   \n",
       "25%      674.750000     68.000000    17.000000    17.000000    137.000000   \n",
       "50%     1922.500000    249.500000   129.500000    70.500000    407.000000   \n",
       "75%     4870.500000    887.750000  1383.000000   462.000000    824.500000   \n",
       "max    25677.000000  16053.000000  8590.000000  8074.000000  15458.000000   \n",
       "\n",
       "         (TOTCLS7G)  \n",
       "count    680.000000  \n",
       "mean     385.957353  \n",
       "std      935.196354  \n",
       "min        0.000000  \n",
       "25%       20.750000  \n",
       "50%      115.500000  \n",
       "75%      319.500000  \n",
       "max    11904.000000  \n",
       "\n",
       "[8 rows x 797 columns]"
      ]
     },
     "execution_count": 17,
     "metadata": {},
     "output_type": "execute_result"
    }
   ],
   "source": [
    "dataset_elementry.describe()"
   ]
  },
  {
   "cell_type": "code",
   "execution_count": 18,
   "metadata": {},
   "outputs": [
    {
     "data": {
      "text/html": [
       "<div>\n",
       "<style scoped>\n",
       "    .dataframe tbody tr th:only-of-type {\n",
       "        vertical-align: middle;\n",
       "    }\n",
       "\n",
       "    .dataframe tbody tr th {\n",
       "        vertical-align: top;\n",
       "    }\n",
       "\n",
       "    .dataframe thead th {\n",
       "        text-align: right;\n",
       "    }\n",
       "</style>\n",
       "<table border=\"1\" class=\"dataframe\">\n",
       "  <thead>\n",
       "    <tr style=\"text-align: right;\">\n",
       "      <th></th>\n",
       "      <th>State Code</th>\n",
       "      <th>District code</th>\n",
       "      <th>Tehsil Code</th>\n",
       "      <th>Town Code/Village code</th>\n",
       "      <th>Ward No</th>\n",
       "      <th>Total Number of households</th>\n",
       "      <th>Total Number of Good</th>\n",
       "      <th>Total Number of Livable</th>\n",
       "      <th>Total Number of Dilapidated</th>\n",
       "      <th>Total Number of Residence households</th>\n",
       "      <th>...</th>\n",
       "      <th>Contition_T_Total</th>\n",
       "      <th>Contition_T_Good</th>\n",
       "      <th>Contition_T_Livable</th>\n",
       "      <th>Contition_T_Dilapidated</th>\n",
       "      <th>Contition_R_Total</th>\n",
       "      <th>Residence_Good</th>\n",
       "      <th>Residence_Livable</th>\n",
       "      <th>Residence_Dilapidated</th>\n",
       "      <th>Residence_cum_other</th>\n",
       "      <th>Residence_cum_Good</th>\n",
       "    </tr>\n",
       "  </thead>\n",
       "  <tbody>\n",
       "    <tr>\n",
       "      <th>count</th>\n",
       "      <td>1908.000000</td>\n",
       "      <td>1908.000000</td>\n",
       "      <td>1908.0</td>\n",
       "      <td>1908.0</td>\n",
       "      <td>1908.0</td>\n",
       "      <td>1908.0</td>\n",
       "      <td>1908.000000</td>\n",
       "      <td>1908.000000</td>\n",
       "      <td>1908.000000</td>\n",
       "      <td>1908.000000</td>\n",
       "      <td>...</td>\n",
       "      <td>1908.0</td>\n",
       "      <td>1908.000000</td>\n",
       "      <td>1908.000000</td>\n",
       "      <td>1908.000000</td>\n",
       "      <td>1908.000000</td>\n",
       "      <td>1908.000000</td>\n",
       "      <td>1908.000000</td>\n",
       "      <td>1908.000000</td>\n",
       "      <td>1908.000000</td>\n",
       "      <td>1908.000000</td>\n",
       "    </tr>\n",
       "    <tr>\n",
       "      <th>mean</th>\n",
       "      <td>17.088050</td>\n",
       "      <td>320.066038</td>\n",
       "      <td>0.0</td>\n",
       "      <td>0.0</td>\n",
       "      <td>0.0</td>\n",
       "      <td>100.0</td>\n",
       "      <td>53.694209</td>\n",
       "      <td>41.547301</td>\n",
       "      <td>4.757180</td>\n",
       "      <td>96.236116</td>\n",
       "      <td>...</td>\n",
       "      <td>100.0</td>\n",
       "      <td>53.694209</td>\n",
       "      <td>41.547301</td>\n",
       "      <td>4.757180</td>\n",
       "      <td>96.236116</td>\n",
       "      <td>51.840928</td>\n",
       "      <td>39.777642</td>\n",
       "      <td>4.617820</td>\n",
       "      <td>3.763884</td>\n",
       "      <td>1.856688</td>\n",
       "    </tr>\n",
       "    <tr>\n",
       "      <th>std</th>\n",
       "      <td>9.392094</td>\n",
       "      <td>184.280200</td>\n",
       "      <td>0.0</td>\n",
       "      <td>0.0</td>\n",
       "      <td>0.0</td>\n",
       "      <td>0.0</td>\n",
       "      <td>14.925468</td>\n",
       "      <td>12.985402</td>\n",
       "      <td>3.091075</td>\n",
       "      <td>3.791460</td>\n",
       "      <td>...</td>\n",
       "      <td>0.0</td>\n",
       "      <td>14.925468</td>\n",
       "      <td>12.985402</td>\n",
       "      <td>3.091075</td>\n",
       "      <td>3.791460</td>\n",
       "      <td>14.883375</td>\n",
       "      <td>12.416863</td>\n",
       "      <td>3.024833</td>\n",
       "      <td>3.791460</td>\n",
       "      <td>1.620250</td>\n",
       "    </tr>\n",
       "    <tr>\n",
       "      <th>min</th>\n",
       "      <td>1.000000</td>\n",
       "      <td>1.000000</td>\n",
       "      <td>0.0</td>\n",
       "      <td>0.0</td>\n",
       "      <td>0.0</td>\n",
       "      <td>100.0</td>\n",
       "      <td>11.500000</td>\n",
       "      <td>6.700000</td>\n",
       "      <td>0.000000</td>\n",
       "      <td>41.300000</td>\n",
       "      <td>...</td>\n",
       "      <td>100.0</td>\n",
       "      <td>11.500000</td>\n",
       "      <td>6.700000</td>\n",
       "      <td>0.000000</td>\n",
       "      <td>41.300000</td>\n",
       "      <td>11.300000</td>\n",
       "      <td>6.400000</td>\n",
       "      <td>0.000000</td>\n",
       "      <td>0.100000</td>\n",
       "      <td>0.100000</td>\n",
       "    </tr>\n",
       "    <tr>\n",
       "      <th>25%</th>\n",
       "      <td>9.000000</td>\n",
       "      <td>161.000000</td>\n",
       "      <td>0.0</td>\n",
       "      <td>0.0</td>\n",
       "      <td>0.0</td>\n",
       "      <td>100.0</td>\n",
       "      <td>43.100000</td>\n",
       "      <td>31.000000</td>\n",
       "      <td>2.400000</td>\n",
       "      <td>95.500000</td>\n",
       "      <td>...</td>\n",
       "      <td>100.0</td>\n",
       "      <td>43.100000</td>\n",
       "      <td>31.000000</td>\n",
       "      <td>2.400000</td>\n",
       "      <td>95.500000</td>\n",
       "      <td>40.975000</td>\n",
       "      <td>30.000000</td>\n",
       "      <td>2.300000</td>\n",
       "      <td>1.700000</td>\n",
       "      <td>0.900000</td>\n",
       "    </tr>\n",
       "    <tr>\n",
       "      <th>50%</th>\n",
       "      <td>18.000000</td>\n",
       "      <td>320.000000</td>\n",
       "      <td>0.0</td>\n",
       "      <td>0.0</td>\n",
       "      <td>0.0</td>\n",
       "      <td>100.0</td>\n",
       "      <td>53.750000</td>\n",
       "      <td>41.400000</td>\n",
       "      <td>4.200000</td>\n",
       "      <td>97.200000</td>\n",
       "      <td>...</td>\n",
       "      <td>100.0</td>\n",
       "      <td>53.750000</td>\n",
       "      <td>41.400000</td>\n",
       "      <td>4.200000</td>\n",
       "      <td>97.200000</td>\n",
       "      <td>51.300000</td>\n",
       "      <td>39.400000</td>\n",
       "      <td>4.000000</td>\n",
       "      <td>2.800000</td>\n",
       "      <td>1.400000</td>\n",
       "    </tr>\n",
       "    <tr>\n",
       "      <th>75%</th>\n",
       "      <td>24.000000</td>\n",
       "      <td>479.000000</td>\n",
       "      <td>0.0</td>\n",
       "      <td>0.0</td>\n",
       "      <td>0.0</td>\n",
       "      <td>100.0</td>\n",
       "      <td>65.600000</td>\n",
       "      <td>51.250000</td>\n",
       "      <td>6.400000</td>\n",
       "      <td>98.300000</td>\n",
       "      <td>...</td>\n",
       "      <td>100.0</td>\n",
       "      <td>65.600000</td>\n",
       "      <td>51.250000</td>\n",
       "      <td>6.400000</td>\n",
       "      <td>98.300000</td>\n",
       "      <td>63.925000</td>\n",
       "      <td>48.900000</td>\n",
       "      <td>6.200000</td>\n",
       "      <td>4.500000</td>\n",
       "      <td>2.400000</td>\n",
       "    </tr>\n",
       "    <tr>\n",
       "      <th>max</th>\n",
       "      <td>35.000000</td>\n",
       "      <td>640.000000</td>\n",
       "      <td>0.0</td>\n",
       "      <td>0.0</td>\n",
       "      <td>0.0</td>\n",
       "      <td>100.0</td>\n",
       "      <td>92.100000</td>\n",
       "      <td>75.900000</td>\n",
       "      <td>19.700000</td>\n",
       "      <td>99.900000</td>\n",
       "      <td>...</td>\n",
       "      <td>100.0</td>\n",
       "      <td>92.100000</td>\n",
       "      <td>75.900000</td>\n",
       "      <td>19.700000</td>\n",
       "      <td>99.900000</td>\n",
       "      <td>90.100000</td>\n",
       "      <td>73.800000</td>\n",
       "      <td>19.500000</td>\n",
       "      <td>58.700000</td>\n",
       "      <td>17.700000</td>\n",
       "    </tr>\n",
       "  </tbody>\n",
       "</table>\n",
       "<p>8 rows × 151 columns</p>\n",
       "</div>"
      ],
      "text/plain": [
       "        State Code  District code  Tehsil Code  Town Code/Village code  \\\n",
       "count  1908.000000    1908.000000       1908.0                  1908.0   \n",
       "mean     17.088050     320.066038          0.0                     0.0   \n",
       "std       9.392094     184.280200          0.0                     0.0   \n",
       "min       1.000000       1.000000          0.0                     0.0   \n",
       "25%       9.000000     161.000000          0.0                     0.0   \n",
       "50%      18.000000     320.000000          0.0                     0.0   \n",
       "75%      24.000000     479.000000          0.0                     0.0   \n",
       "max      35.000000     640.000000          0.0                     0.0   \n",
       "\n",
       "       Ward No  Total Number of households  Total Number of Good  \\\n",
       "count   1908.0                      1908.0           1908.000000   \n",
       "mean       0.0                       100.0             53.694209   \n",
       "std        0.0                         0.0             14.925468   \n",
       "min        0.0                       100.0             11.500000   \n",
       "25%        0.0                       100.0             43.100000   \n",
       "50%        0.0                       100.0             53.750000   \n",
       "75%        0.0                       100.0             65.600000   \n",
       "max        0.0                       100.0             92.100000   \n",
       "\n",
       "       Total Number of Livable  Total Number of Dilapidated  \\\n",
       "count              1908.000000                  1908.000000   \n",
       "mean                 41.547301                     4.757180   \n",
       "std                  12.985402                     3.091075   \n",
       "min                   6.700000                     0.000000   \n",
       "25%                  31.000000                     2.400000   \n",
       "50%                  41.400000                     4.200000   \n",
       "75%                  51.250000                     6.400000   \n",
       "max                  75.900000                    19.700000   \n",
       "\n",
       "       Total Number of Residence households  ...  Contition_T_Total  \\\n",
       "count                           1908.000000  ...             1908.0   \n",
       "mean                              96.236116  ...              100.0   \n",
       "std                                3.791460  ...                0.0   \n",
       "min                               41.300000  ...              100.0   \n",
       "25%                               95.500000  ...              100.0   \n",
       "50%                               97.200000  ...              100.0   \n",
       "75%                               98.300000  ...              100.0   \n",
       "max                               99.900000  ...              100.0   \n",
       "\n",
       "       Contition_T_Good  Contition_T_Livable  Contition_T_Dilapidated  \\\n",
       "count       1908.000000          1908.000000              1908.000000   \n",
       "mean          53.694209            41.547301                 4.757180   \n",
       "std           14.925468            12.985402                 3.091075   \n",
       "min           11.500000             6.700000                 0.000000   \n",
       "25%           43.100000            31.000000                 2.400000   \n",
       "50%           53.750000            41.400000                 4.200000   \n",
       "75%           65.600000            51.250000                 6.400000   \n",
       "max           92.100000            75.900000                19.700000   \n",
       "\n",
       "       Contition_R_Total  Residence_Good  Residence_Livable  \\\n",
       "count        1908.000000     1908.000000        1908.000000   \n",
       "mean           96.236116       51.840928          39.777642   \n",
       "std             3.791460       14.883375          12.416863   \n",
       "min            41.300000       11.300000           6.400000   \n",
       "25%            95.500000       40.975000          30.000000   \n",
       "50%            97.200000       51.300000          39.400000   \n",
       "75%            98.300000       63.925000          48.900000   \n",
       "max            99.900000       90.100000          73.800000   \n",
       "\n",
       "       Residence_Dilapidated  Residence_cum_other  Residence_cum_Good  \n",
       "count            1908.000000          1908.000000         1908.000000  \n",
       "mean                4.617820             3.763884            1.856688  \n",
       "std                 3.024833             3.791460            1.620250  \n",
       "min                 0.000000             0.100000            0.100000  \n",
       "25%                 2.300000             1.700000            0.900000  \n",
       "50%                 4.000000             2.800000            1.400000  \n",
       "75%                 6.200000             4.500000            2.400000  \n",
       "max                19.500000            58.700000           17.700000  \n",
       "\n",
       "[8 rows x 151 columns]"
      ]
     },
     "execution_count": 18,
     "metadata": {},
     "output_type": "execute_result"
    }
   ],
   "source": [
    "dataset_housing.describe()"
   ]
  },
  {
   "cell_type": "code",
   "execution_count": 19,
   "metadata": {},
   "outputs": [
    {
     "data": {
      "text/html": [
       "<div>\n",
       "<style scoped>\n",
       "    .dataframe tbody tr th:only-of-type {\n",
       "        vertical-align: middle;\n",
       "    }\n",
       "\n",
       "    .dataframe tbody tr th {\n",
       "        vertical-align: top;\n",
       "    }\n",
       "\n",
       "    .dataframe thead th {\n",
       "        text-align: right;\n",
       "    }\n",
       "</style>\n",
       "<table border=\"1\" class=\"dataframe\">\n",
       "  <thead>\n",
       "    <tr style=\"text-align: right;\">\n",
       "      <th></th>\n",
       "      <th>District code</th>\n",
       "      <th>Population</th>\n",
       "      <th>Male</th>\n",
       "      <th>Female</th>\n",
       "      <th>Literate</th>\n",
       "      <th>Male_Literate</th>\n",
       "      <th>Female_Literate</th>\n",
       "      <th>SC</th>\n",
       "      <th>Male_SC</th>\n",
       "      <th>Female_SC</th>\n",
       "      <th>...</th>\n",
       "      <th>Power_Parity_Rs_90000_150000</th>\n",
       "      <th>Power_Parity_Rs_45000_150000</th>\n",
       "      <th>Power_Parity_Rs_150000_240000</th>\n",
       "      <th>Power_Parity_Rs_240000_330000</th>\n",
       "      <th>Power_Parity_Rs_150000_330000</th>\n",
       "      <th>Power_Parity_Rs_330000_425000</th>\n",
       "      <th>Power_Parity_Rs_425000_545000</th>\n",
       "      <th>Power_Parity_Rs_330000_545000</th>\n",
       "      <th>Power_Parity_Above_Rs_545000</th>\n",
       "      <th>Total_Power_Parity</th>\n",
       "    </tr>\n",
       "  </thead>\n",
       "  <tbody>\n",
       "    <tr>\n",
       "      <th>count</th>\n",
       "      <td>640.000000</td>\n",
       "      <td>6.400000e+02</td>\n",
       "      <td>6.400000e+02</td>\n",
       "      <td>6.400000e+02</td>\n",
       "      <td>6.400000e+02</td>\n",
       "      <td>6.400000e+02</td>\n",
       "      <td>6.400000e+02</td>\n",
       "      <td>6.400000e+02</td>\n",
       "      <td>6.400000e+02</td>\n",
       "      <td>6.400000e+02</td>\n",
       "      <td>...</td>\n",
       "      <td>640.000000</td>\n",
       "      <td>640.000000</td>\n",
       "      <td>640.000000</td>\n",
       "      <td>640.000000</td>\n",
       "      <td>640.000000</td>\n",
       "      <td>640.000000</td>\n",
       "      <td>640.000000</td>\n",
       "      <td>640.000000</td>\n",
       "      <td>640.000000</td>\n",
       "      <td>640.000000</td>\n",
       "    </tr>\n",
       "    <tr>\n",
       "      <th>mean</th>\n",
       "      <td>320.500000</td>\n",
       "      <td>1.891961e+06</td>\n",
       "      <td>9.738598e+05</td>\n",
       "      <td>9.181011e+05</td>\n",
       "      <td>1.193186e+06</td>\n",
       "      <td>6.793182e+05</td>\n",
       "      <td>5.138675e+05</td>\n",
       "      <td>3.146537e+05</td>\n",
       "      <td>1.617739e+05</td>\n",
       "      <td>1.528798e+05</td>\n",
       "      <td>...</td>\n",
       "      <td>786.046875</td>\n",
       "      <td>1696.456250</td>\n",
       "      <td>294.000000</td>\n",
       "      <td>215.300000</td>\n",
       "      <td>509.300000</td>\n",
       "      <td>194.204688</td>\n",
       "      <td>261.245313</td>\n",
       "      <td>455.450000</td>\n",
       "      <td>279.631250</td>\n",
       "      <td>3315.412500</td>\n",
       "    </tr>\n",
       "    <tr>\n",
       "      <th>std</th>\n",
       "      <td>184.896367</td>\n",
       "      <td>1.544380e+06</td>\n",
       "      <td>8.007785e+05</td>\n",
       "      <td>7.449864e+05</td>\n",
       "      <td>1.068583e+06</td>\n",
       "      <td>5.924144e+05</td>\n",
       "      <td>4.801816e+05</td>\n",
       "      <td>3.129818e+05</td>\n",
       "      <td>1.611216e+05</td>\n",
       "      <td>1.520336e+05</td>\n",
       "      <td>...</td>\n",
       "      <td>1038.854733</td>\n",
       "      <td>1720.535151</td>\n",
       "      <td>638.345281</td>\n",
       "      <td>362.684243</td>\n",
       "      <td>968.538748</td>\n",
       "      <td>424.108001</td>\n",
       "      <td>587.279450</td>\n",
       "      <td>1007.364839</td>\n",
       "      <td>1050.934537</td>\n",
       "      <td>4638.568719</td>\n",
       "    </tr>\n",
       "    <tr>\n",
       "      <th>min</th>\n",
       "      <td>1.000000</td>\n",
       "      <td>8.004000e+03</td>\n",
       "      <td>4.414000e+03</td>\n",
       "      <td>3.590000e+03</td>\n",
       "      <td>4.436000e+03</td>\n",
       "      <td>2.614000e+03</td>\n",
       "      <td>1.822000e+03</td>\n",
       "      <td>0.000000e+00</td>\n",
       "      <td>0.000000e+00</td>\n",
       "      <td>0.000000e+00</td>\n",
       "      <td>...</td>\n",
       "      <td>0.000000</td>\n",
       "      <td>0.000000</td>\n",
       "      <td>0.000000</td>\n",
       "      <td>0.000000</td>\n",
       "      <td>0.000000</td>\n",
       "      <td>0.000000</td>\n",
       "      <td>0.000000</td>\n",
       "      <td>0.000000</td>\n",
       "      <td>0.000000</td>\n",
       "      <td>9.000000</td>\n",
       "    </tr>\n",
       "    <tr>\n",
       "      <th>25%</th>\n",
       "      <td>160.750000</td>\n",
       "      <td>8.178610e+05</td>\n",
       "      <td>4.171682e+05</td>\n",
       "      <td>4.017458e+05</td>\n",
       "      <td>4.825982e+05</td>\n",
       "      <td>2.764365e+05</td>\n",
       "      <td>2.008920e+05</td>\n",
       "      <td>8.320850e+04</td>\n",
       "      <td>4.230700e+04</td>\n",
       "      <td>4.267175e+04</td>\n",
       "      <td>...</td>\n",
       "      <td>236.750000</td>\n",
       "      <td>589.000000</td>\n",
       "      <td>59.000000</td>\n",
       "      <td>24.750000</td>\n",
       "      <td>95.000000</td>\n",
       "      <td>19.000000</td>\n",
       "      <td>21.000000</td>\n",
       "      <td>44.000000</td>\n",
       "      <td>18.000000</td>\n",
       "      <td>1024.250000</td>\n",
       "    </tr>\n",
       "    <tr>\n",
       "      <th>50%</th>\n",
       "      <td>320.500000</td>\n",
       "      <td>1.557367e+06</td>\n",
       "      <td>7.986815e+05</td>\n",
       "      <td>7.589200e+05</td>\n",
       "      <td>9.573465e+05</td>\n",
       "      <td>5.483525e+05</td>\n",
       "      <td>4.038590e+05</td>\n",
       "      <td>2.460160e+05</td>\n",
       "      <td>1.255485e+05</td>\n",
       "      <td>1.178550e+05</td>\n",
       "      <td>...</td>\n",
       "      <td>518.000000</td>\n",
       "      <td>1220.500000</td>\n",
       "      <td>149.000000</td>\n",
       "      <td>118.500000</td>\n",
       "      <td>278.000000</td>\n",
       "      <td>84.000000</td>\n",
       "      <td>85.500000</td>\n",
       "      <td>186.500000</td>\n",
       "      <td>60.500000</td>\n",
       "      <td>2238.500000</td>\n",
       "    </tr>\n",
       "    <tr>\n",
       "      <th>75%</th>\n",
       "      <td>480.250000</td>\n",
       "      <td>2.583551e+06</td>\n",
       "      <td>1.338604e+06</td>\n",
       "      <td>1.264277e+06</td>\n",
       "      <td>1.602260e+06</td>\n",
       "      <td>9.188582e+05</td>\n",
       "      <td>6.641550e+05</td>\n",
       "      <td>4.477078e+05</td>\n",
       "      <td>2.284602e+05</td>\n",
       "      <td>2.140502e+05</td>\n",
       "      <td>...</td>\n",
       "      <td>941.250000</td>\n",
       "      <td>2233.250000</td>\n",
       "      <td>296.500000</td>\n",
       "      <td>262.000000</td>\n",
       "      <td>564.500000</td>\n",
       "      <td>213.250000</td>\n",
       "      <td>293.000000</td>\n",
       "      <td>497.000000</td>\n",
       "      <td>215.500000</td>\n",
       "      <td>3959.000000</td>\n",
       "    </tr>\n",
       "    <tr>\n",
       "      <th>max</th>\n",
       "      <td>640.000000</td>\n",
       "      <td>1.106015e+07</td>\n",
       "      <td>5.865078e+06</td>\n",
       "      <td>5.195070e+06</td>\n",
       "      <td>8.227161e+06</td>\n",
       "      <td>4.591396e+06</td>\n",
       "      <td>3.635765e+06</td>\n",
       "      <td>2.464032e+06</td>\n",
       "      <td>1.266504e+06</td>\n",
       "      <td>1.197528e+06</td>\n",
       "      <td>...</td>\n",
       "      <td>10334.000000</td>\n",
       "      <td>13819.000000</td>\n",
       "      <td>10835.000000</td>\n",
       "      <td>3595.000000</td>\n",
       "      <td>14430.000000</td>\n",
       "      <td>5027.000000</td>\n",
       "      <td>7597.000000</td>\n",
       "      <td>12624.000000</td>\n",
       "      <td>18289.000000</td>\n",
       "      <td>60163.000000</td>\n",
       "    </tr>\n",
       "  </tbody>\n",
       "</table>\n",
       "<p>8 rows × 116 columns</p>\n",
       "</div>"
      ],
      "text/plain": [
       "       District code    Population          Male        Female      Literate  \\\n",
       "count     640.000000  6.400000e+02  6.400000e+02  6.400000e+02  6.400000e+02   \n",
       "mean      320.500000  1.891961e+06  9.738598e+05  9.181011e+05  1.193186e+06   \n",
       "std       184.896367  1.544380e+06  8.007785e+05  7.449864e+05  1.068583e+06   \n",
       "min         1.000000  8.004000e+03  4.414000e+03  3.590000e+03  4.436000e+03   \n",
       "25%       160.750000  8.178610e+05  4.171682e+05  4.017458e+05  4.825982e+05   \n",
       "50%       320.500000  1.557367e+06  7.986815e+05  7.589200e+05  9.573465e+05   \n",
       "75%       480.250000  2.583551e+06  1.338604e+06  1.264277e+06  1.602260e+06   \n",
       "max       640.000000  1.106015e+07  5.865078e+06  5.195070e+06  8.227161e+06   \n",
       "\n",
       "       Male_Literate  Female_Literate            SC       Male_SC  \\\n",
       "count   6.400000e+02     6.400000e+02  6.400000e+02  6.400000e+02   \n",
       "mean    6.793182e+05     5.138675e+05  3.146537e+05  1.617739e+05   \n",
       "std     5.924144e+05     4.801816e+05  3.129818e+05  1.611216e+05   \n",
       "min     2.614000e+03     1.822000e+03  0.000000e+00  0.000000e+00   \n",
       "25%     2.764365e+05     2.008920e+05  8.320850e+04  4.230700e+04   \n",
       "50%     5.483525e+05     4.038590e+05  2.460160e+05  1.255485e+05   \n",
       "75%     9.188582e+05     6.641550e+05  4.477078e+05  2.284602e+05   \n",
       "max     4.591396e+06     3.635765e+06  2.464032e+06  1.266504e+06   \n",
       "\n",
       "          Female_SC  ...  Power_Parity_Rs_90000_150000  \\\n",
       "count  6.400000e+02  ...                    640.000000   \n",
       "mean   1.528798e+05  ...                    786.046875   \n",
       "std    1.520336e+05  ...                   1038.854733   \n",
       "min    0.000000e+00  ...                      0.000000   \n",
       "25%    4.267175e+04  ...                    236.750000   \n",
       "50%    1.178550e+05  ...                    518.000000   \n",
       "75%    2.140502e+05  ...                    941.250000   \n",
       "max    1.197528e+06  ...                  10334.000000   \n",
       "\n",
       "       Power_Parity_Rs_45000_150000  Power_Parity_Rs_150000_240000  \\\n",
       "count                    640.000000                     640.000000   \n",
       "mean                    1696.456250                     294.000000   \n",
       "std                     1720.535151                     638.345281   \n",
       "min                        0.000000                       0.000000   \n",
       "25%                      589.000000                      59.000000   \n",
       "50%                     1220.500000                     149.000000   \n",
       "75%                     2233.250000                     296.500000   \n",
       "max                    13819.000000                   10835.000000   \n",
       "\n",
       "       Power_Parity_Rs_240000_330000  Power_Parity_Rs_150000_330000  \\\n",
       "count                     640.000000                     640.000000   \n",
       "mean                      215.300000                     509.300000   \n",
       "std                       362.684243                     968.538748   \n",
       "min                         0.000000                       0.000000   \n",
       "25%                        24.750000                      95.000000   \n",
       "50%                       118.500000                     278.000000   \n",
       "75%                       262.000000                     564.500000   \n",
       "max                      3595.000000                   14430.000000   \n",
       "\n",
       "       Power_Parity_Rs_330000_425000  Power_Parity_Rs_425000_545000  \\\n",
       "count                     640.000000                     640.000000   \n",
       "mean                      194.204688                     261.245313   \n",
       "std                       424.108001                     587.279450   \n",
       "min                         0.000000                       0.000000   \n",
       "25%                        19.000000                      21.000000   \n",
       "50%                        84.000000                      85.500000   \n",
       "75%                       213.250000                     293.000000   \n",
       "max                      5027.000000                    7597.000000   \n",
       "\n",
       "       Power_Parity_Rs_330000_545000  Power_Parity_Above_Rs_545000  \\\n",
       "count                     640.000000                    640.000000   \n",
       "mean                      455.450000                    279.631250   \n",
       "std                      1007.364839                   1050.934537   \n",
       "min                         0.000000                      0.000000   \n",
       "25%                        44.000000                     18.000000   \n",
       "50%                       186.500000                     60.500000   \n",
       "75%                       497.000000                    215.500000   \n",
       "max                     12624.000000                  18289.000000   \n",
       "\n",
       "       Total_Power_Parity  \n",
       "count          640.000000  \n",
       "mean          3315.412500  \n",
       "std           4638.568719  \n",
       "min              9.000000  \n",
       "25%           1024.250000  \n",
       "50%           2238.500000  \n",
       "75%           3959.000000  \n",
       "max          60163.000000  \n",
       "\n",
       "[8 rows x 116 columns]"
      ]
     },
     "execution_count": 19,
     "metadata": {},
     "output_type": "execute_result"
    }
   ],
   "source": [
    "dataset_cencus.describe()"
   ]
  },
  {
   "cell_type": "markdown",
   "metadata": {},
   "source": [
    "<a id=section3_2></a>"
   ]
  },
  {
   "cell_type": "markdown",
   "metadata": {},
   "source": [
    "#### 3.2 Pre Profiling"
   ]
  },
  {
   "cell_type": "markdown",
   "metadata": {},
   "source": [
    "- By pandas profiling, an __interactive HTML report__ gets generated which contins all the information about the columns of the dataset, like the __counts and type__ of each _column_. Detailed information about each column, __coorelation between different columns__ and a sample of dataset.<br/>\n",
    "- It gives us __visual interpretation__ of each column in the data.\n",
    "- _Spread of the data_ can be better understood by the distribution plot. \n",
    "- _Grannular level_ analysis of each column."
   ]
  },
  {
   "cell_type": "code",
   "execution_count": 20,
   "metadata": {
    "collapsed": true
   },
   "outputs": [],
   "source": [
    "GDP_Pre_profile = pp.ProfileReport(INDIA_GDP_dataset)\n",
    "GR_Pre_profile = pp.ProfileReport(INDIA_GR_dataset)\n",
    "elementry_pre_profile =  pp.ProfileReport(dataset_elementry)\n",
    "housing_pre_profile =  pp.ProfileReport(dataset_housing)\n",
    "cencus_pre_profile =  pp.ProfileReport(dataset_cencus)\n",
    "\n",
    "GDP_Pre_profile.to_file(outputfile=\"INDIA_GDP_dataset_pre.html\")\n",
    "GR_Pre_profile.to_file(outputfile=\"INDIA_GR_dataset_pre.html\")\n",
    "elementry_pre_profile.to_file(outputfile=\"elementry_pre.html\")\n",
    "housing_pre_profile.to_file(outputfile=\"housing_pre.html\")\n",
    "cencus_pre_profile.to_file(outputfile=\"cencus_pre.html\")"
   ]
  },
  {
   "cell_type": "markdown",
   "metadata": {},
   "source": [
    "Here, we have done Pandas Profiling before preprocessing our dataset, so we have named the html file as __INDIA_GDP_dataset_pre.html , INDIA_GR_dataset_pre.html , elementry_pre.html, housing_pre.html , cencus_pre.html__. Take a look at the file and see what useful insight you can develop from it. <br/>\n",
    "Now we will process our data to better understand it."
   ]
  },
  {
   "cell_type": "markdown",
   "metadata": {},
   "source": [
    "<a id=section3_3></a>"
   ]
  },
  {
   "cell_type": "markdown",
   "metadata": {},
   "source": [
    "#### 3.3 Preprocessing Section"
   ]
  },
  {
   "cell_type": "markdown",
   "metadata": {},
   "source": [
    "<a id=section3_3_1></a>"
   ]
  },
  {
   "cell_type": "markdown",
   "metadata": {},
   "source": [
    "#### 3.3.1 Preprocessing"
   ]
  },
  {
   "cell_type": "markdown",
   "metadata": {},
   "source": [
    "- Making Column name in upper case in al dataset.\n",
    "- Correcting the name of State/District Name.\n",
    "- Replacing NaN value with NA in all Data sheet[making ready to change in next step.]"
   ]
  },
  {
   "cell_type": "code",
   "execution_count": 20,
   "metadata": {
    "collapsed": true
   },
   "outputs": [],
   "source": [
    "dataset_cencus.columns = map(str.upper, dataset_cencus.columns)\n",
    "dataset_cencus['DISTRICT NAME'] = dataset_cencus['DISTRICT NAME'].str.upper()\n",
    "dataset_cencus['STATE NAME'] = dataset_cencus['STATE NAME'].str.upper()\n",
    "dataset_cencus.replace('NCT OF DELHI','DELHI',inplace=True)\n",
    "dataset_cencus.replace('ORISSA','ODISHA',inplace=True)\n",
    "\n",
    "dataset_housing = dataset_housing.replace('&','AND',regex=True)\n",
    "dataset_housing.replace('NCT OF DELHI','DELHI',inplace=True)\n",
    "dataset_housing.replace('PUDUCHERRY','PONDICHERRY',inplace=True)\n",
    "dataset_housing.columns = map(str.upper, dataset_housing.columns)\n",
    "dataset_housing['DISTRICT NAME'] = dataset_housing['DISTRICT NAME'].str.upper()\n",
    "dataset_housing['STATE NAME'] = dataset_housing['STATE NAME'].str.upper()\n",
    "dataset_housing = dataset_housing.loc[dataset_housing['RURAL/URBAN'] == 'Total']\n",
    "\n",
    "dataset_elementry['DISTRICT NAME'] = dataset_elementry['DISTRICT NAME'].str.upper()\n",
    "dataset_elementry['STATE NAME'] = dataset_elementry['STATE NAME'].str.upper()\n",
    "\n",
    "dataset_elementry = dataset_elementry.replace(np.NaN,'NA',regex=True)\n",
    "dataset_cencus = dataset_cencus.replace(np.NaN,'NA',regex=True)\n",
    "dataset_housing = dataset_housing.replace(np.NaN,'NA',regex=True)"
   ]
  },
  {
   "cell_type": "markdown",
   "metadata": {},
   "source": [
    "<a id=section3_3_2></a>"
   ]
  },
  {
   "cell_type": "markdown",
   "metadata": {},
   "source": [
    "#### 3.3.2 Merging the sheets  \n",
    "##### [ To have One dataset to use]"
   ]
  },
  {
   "cell_type": "code",
   "execution_count": 22,
   "metadata": {
    "collapsed": true
   },
   "outputs": [],
   "source": [
    "dataset_cencus_housing = dataset_cencus.merge(dataset_housing,on=['STATE NAME','DISTRICT NAME'],how='left')\n",
    "dataset_cencus_housing_elementry = dataset_cencus_housing.merge(dataset_elementry,on=['STATE NAME','DISTRICT NAME'],how='left')\n",
    "\n",
    "dataset_cencus_housing_elementry.replace('NA',np.NaN,inplace=True)\n",
    "dataset_cencus_housing_elementry = dataset_cencus_housing_elementry.replace(',','',regex=True)\n",
    "dataset_cencus_housing_elementry = dataset_cencus_housing_elementry.fillna(method = 'bfill', axis=0).fillna(0)\n",
    "#dataset_cencus_housing_elementry['STATE NAME'] = dataset_cencus_housing_elementry['STATE NAME'].str.title()\n",
    "\n",
    "dataset_cencus_housing_elementry_GDP = dataset_cencus_housing_elementry.merge(INDIA_GDP_dataset,on=['STATE NAME','DISTRICT NAME'],how='left')\n",
    "\n",
    "dataset_cencus_housing_elementry_GDP = dataset_cencus_housing_elementry_GDP.replace(np.NaN,'NA',regex=True)\n",
    "dataset_cencus_housing_elementry_GDP.replace('NA',np.NaN,inplace=True)\n",
    "dataset_cencus_housing_elementry_GDP = dataset_cencus_housing_elementry_GDP.fillna(method = 'bfill', axis=0).fillna(0)"
   ]
  },
  {
   "cell_type": "markdown",
   "metadata": {},
   "source": [
    "we have made one sheet having all details: __dataset_cencus_housing_elementry_GDP___ ."
   ]
  },
  {
   "cell_type": "markdown",
   "metadata": {},
   "source": [
    "<a id=section3_4></a>"
   ]
  },
  {
   "cell_type": "markdown",
   "metadata": {},
   "source": [
    "### 3.4 Post Pandas Profiling"
   ]
  },
  {
   "cell_type": "code",
   "execution_count": 23,
   "metadata": {
    "collapsed": true
   },
   "outputs": [],
   "source": [
    "INDIA_cencus_housing_elementry_GDP_post_profile = pp.ProfileReport(dataset_cencus_housing_elementry_GDP)\n",
    "INDIA_cencus_housing_elementry_GDP_post_profile.to_file(outputfile=\"INDIA_cencus_housing_elementry_GDP_post.html\")"
   ]
  },
  {
   "cell_type": "markdown",
   "metadata": {},
   "source": [
    "There are many distint value in maximum columns (Rejected by pandas profiling), some are having zeros.\n",
    "we are not considering those columns for our analysis."
   ]
  },
  {
   "cell_type": "markdown",
   "metadata": {},
   "source": [
    "<a id=section3_5></a>"
   ]
  },
  {
   "cell_type": "markdown",
   "metadata": {},
   "source": [
    "### 3.5 Pre processing fuctions"
   ]
  },
  {
   "cell_type": "markdown",
   "metadata": {},
   "source": [
    "- Defination of Standerised fuction."
   ]
  },
  {
   "cell_type": "code",
   "execution_count": 24,
   "metadata": {
    "collapsed": true
   },
   "outputs": [],
   "source": [
    "import plotly\n",
    "#plotly.tools.set_credentials_file(username='ankur001', api_key='9viRqlIsupXGw2qyWCmn')\n",
    "#plotly.tools.set_credentials_file(username='ankur0000', api_key='IF7oHqcnz416bMhUkMVn')\n",
    "#plotly.tools.set_credentials_file(username='ankur0001', api_key='KrMWlVVvcEFK285yZGCK')\n",
    "plotly.tools.set_credentials_file(username='ankur00000', api_key='xpUhYvRc1ekMpdkzTwOV')\n",
    "\n",
    "def getDataSet(columnName):\n",
    "    name=dataset_cencus_housing_elementry_GDP[['STATE NAME','DISTRICT NAME']]\n",
    "    for column in columnName:\n",
    "        name[column] =dataset_cencus_housing_elementry_GDP[column]\n",
    "    name.set_index(['STATE NAME','DISTRICT NAME'],inplace = True)\n",
    "    name.rename(index={'BANGALORE':'BANGALORE URBAN','NORTH TWENTY FOUR PARGANAS':'24-PARGANAS (NORTH)','BARDDHAMAN':'BURDWAN','UPPER SIANG':' SIANG: UPPER','NORTH  DISTRICT':'NORTH','UPPER SUBANSIRI':' SUBANSIRI: UPPER','EAST KAMENG':' KAMENG: EAST','TAWANG':' TAWANG','DIBANG VALLEY':' DIBANG VALLEY','GONDIYA':'GONDIA','MAHBUBNAGAR':' MAHABUBNAGAR',    'KARIMNAGAR':' KARIMNAGAR',    'RANGAREDDY':' RANGAREDDY',                      'JAISALMER':'JAISALMER',    'CHHATTISGARH':'CHATTISGARH',    'KORIYA':' KORIYA',    'SURGUJA':' SURGUJA',    'ANUGUL':' ANGUL',    'RAIGARH':' RAIGARH'  ,  'LAHUL AND SPITI':' LAHAUL AND SPITI',    'JASHPUR':' JASHPUR'                      }, inplace= True)\n",
    "    return name\n",
    "\n",
    "def drowLineChart(dataset,graphName):\n",
    "    data =[]\n",
    "\n",
    "    for column in dataset.columns:\n",
    "        data.append(go.Scatter(\n",
    "        x = dataset.index.get_level_values(1).values,\n",
    "        y = dataset[column],\n",
    "        name=column,\n",
    "        ))\n",
    "    layout = go.Layout(\n",
    "        title=graphName\n",
    "    )\n",
    "    fig = go.Figure(data=data, layout=layout)\n",
    "    #if(len(dataset.columns)>5):\n",
    "     #   return py.iplot(fig, filename='hide-legend')\n",
    "    #else:\n",
    "    return py.iplot(fig, filename='grouped-bar')\n",
    "\n",
    "def drowStackedBarChart(dataset,graphName):\n",
    "    data =[]\n",
    "\n",
    "    for column in dataset.columns:\n",
    "        data.append(go.Bar(\n",
    "        x = dataset.index.get_level_values(1).values,\n",
    "        y = dataset[column],\n",
    "        name=column,\n",
    "        ))\n",
    "    layout = go.Layout(\n",
    "        barmode='stack',\n",
    "        title=graphName\n",
    "    )\n",
    "\n",
    "\n",
    "    fig = go.Figure(data=data, layout=layout)\n",
    "    return py.iplot(fig, filename='grouped-bar')"
   ]
  },
  {
   "cell_type": "markdown",
   "metadata": {},
   "source": [
    "<a id=section4></a>"
   ]
  },
  {
   "cell_type": "markdown",
   "metadata": {},
   "source": [
    "### 4. Questions"
   ]
  },
  {
   "cell_type": "markdown",
   "metadata": {},
   "source": [
    "<a id=section4_1></a>"
   ]
  },
  {
   "cell_type": "markdown",
   "metadata": {},
   "source": [
    "#### 4.1 State wise male and female population in India "
   ]
  },
  {
   "cell_type": "code",
   "execution_count": 25,
   "metadata": {
    "collapsed": true
   },
   "outputs": [],
   "source": [
    "Male_Female_State_data =  dataset_cencus_housing_elementry_GDP.groupby(['STATE NAME'])[['MALE','FEMALE']].sum().rename(columns={'POPULATION':'TOTAL'})"
   ]
  },
  {
   "cell_type": "code",
   "execution_count": 26,
   "metadata": {},
   "outputs": [
    {
     "name": "stdout",
     "output_type": "stream",
     "text": [
      "High five! You successfully sent some data to your account on plotly. View your plot in your browser at https://plot.ly/~ankur00000/0 or inside your plot.ly account where it is named 'grouped-bar'\n"
     ]
    },
    {
     "data": {
      "text/html": [
       "<iframe id=\"igraph\" scrolling=\"no\" style=\"border:none;\" seamless=\"seamless\" src=\"https://plot.ly/~ankur00000/0.embed\" height=\"525px\" width=\"100%\"></iframe>"
      ],
      "text/plain": [
       "<chart_studio.tools.PlotlyDisplay object>"
      ]
     },
     "execution_count": 26,
     "metadata": {},
     "output_type": "execute_result"
    }
   ],
   "source": [
    "trace1 = go.Bar(\n",
    "    x=Male_Female_State_data.index,\n",
    "    y=Male_Female_State_data[\"MALE\"],\n",
    "    name='Male Population'\n",
    ")\n",
    "trace2 = go.Bar(\n",
    "    x=Male_Female_State_data.index,\n",
    "    y=Male_Female_State_data[\"FEMALE\"],\n",
    "    name='Female Population'\n",
    ")\n",
    "\n",
    "data = [trace1, trace2]\n",
    "\n",
    "layout = go.Layout(\n",
    "    barmode='stack',\n",
    "    title='Male-Female Population'\n",
    ")\n",
    "\n",
    "\n",
    "fig = go.Figure(data=data, layout=layout)\n",
    "py.iplot(fig, filename='grouped-bar')\n"
   ]
  },
  {
   "cell_type": "markdown",
   "metadata": {},
   "source": [
    "<a id=section4_2></a>"
   ]
  },
  {
   "cell_type": "markdown",
   "metadata": {},
   "source": [
    "#### 4.2 Sex ratio of females per 1000 males in different states of India"
   ]
  },
  {
   "cell_type": "code",
   "execution_count": 27,
   "metadata": {
    "collapsed": true
   },
   "outputs": [],
   "source": [
    "dataset_cencus_housing_elementry_GDP['SEX RATIO'] = (dataset_cencus_housing_elementry_GDP['FEMALE'].div(dataset_cencus_housing_elementry_GDP['MALE'])).multiply(1000)\n",
    "sex_ratio_State_data = dataset_cencus_housing_elementry_GDP.groupby(['STATE NAME'])[['SEX RATIO']].mean().round()"
   ]
  },
  {
   "cell_type": "code",
   "execution_count": 28,
   "metadata": {},
   "outputs": [
    {
     "data": {
      "text/html": [
       "<iframe id=\"igraph\" scrolling=\"no\" style=\"border:none;\" seamless=\"seamless\" src=\"https://plot.ly/~ankur00000/2.embed\" height=\"525px\" width=\"100%\"></iframe>"
      ],
      "text/plain": [
       "<chart_studio.tools.PlotlyDisplay object>"
      ]
     },
     "execution_count": 28,
     "metadata": {},
     "output_type": "execute_result"
    }
   ],
   "source": [
    "data = [go.Bar(\n",
    "            x=sex_ratio_State_data.index,\n",
    "            y=sex_ratio_State_data[\"SEX RATIO\"]\n",
    "    )]\n",
    "\n",
    "py.iplot(data, filename='basic-bar')"
   ]
  },
  {
   "cell_type": "markdown",
   "metadata": {},
   "source": [
    "- Kerla , Pondicherry, Uttarakhand having > 1000 ratio {Female are more than Male out of 1000}.\n",
    "- Tamilnadu, Andhrapradesh ,Chhatisgadh & Odisha are nearly equal ratio.\n",
    "- DADRA AND Haweli & Daman and Dwip having lesser ratio."
   ]
  },
  {
   "cell_type": "markdown",
   "metadata": {},
   "source": [
    "<a id=section4_3></a>"
   ]
  },
  {
   "cell_type": "markdown",
   "metadata": {},
   "source": [
    "#### 4.3 Population of different types of age groups in India"
   ]
  },
  {
   "cell_type": "code",
   "execution_count": 29,
   "metadata": {
    "collapsed": true
   },
   "outputs": [],
   "source": [
    "age_group_state_data = dataset_cencus_housing_elementry_GDP.groupby(['STATE NAME'])[['AGE_GROUP_0_29','AGE_GROUP_30_49','AGE_GROUP_50']].sum().rename(columns={'AGE_GROUP_0_29':'0-29 YEARS','AGE_GROUP_30_49':'30-49 YEARS','AGE_GROUP_50':'50 YEARS & ABOVE'})"
   ]
  },
  {
   "cell_type": "code",
   "execution_count": 32,
   "metadata": {},
   "outputs": [
    {
     "name": "stdout",
     "output_type": "stream",
     "text": [
      "High five! You successfully sent some data to your account on plotly. View your plot in your browser at https://plot.ly/~ankur00000/0 or inside your plot.ly account where it is named 'grouped-bar'\n"
     ]
    },
    {
     "data": {
      "text/html": [
       "<iframe id=\"igraph\" scrolling=\"no\" style=\"border:none;\" seamless=\"seamless\" src=\"https://plot.ly/~ankur00000/0.embed\" height=\"525px\" width=\"100%\"></iframe>"
      ],
      "text/plain": [
       "<chart_studio.tools.PlotlyDisplay object>"
      ]
     },
     "execution_count": 32,
     "metadata": {},
     "output_type": "execute_result"
    }
   ],
   "source": [
    "trace1 = go.Bar(\n",
    "    x=age_group_state_data.index,\n",
    "    y=age_group_state_data[\"0-29 YEARS\"],\n",
    "    name='0-29'\n",
    "     \n",
    ")\n",
    "trace2 = go.Bar(\n",
    "    x=age_group_state_data.index,\n",
    "    y=age_group_state_data[\"30-49 YEARS\"],\n",
    "    name='30-49'\n",
    ")\n",
    "trace3 = go.Bar(\n",
    "    x=age_group_state_data.index,\n",
    "    y=age_group_state_data[\"50 YEARS & ABOVE\"],\n",
    "    name='>50'\n",
    ")\n",
    "\n",
    "data = [trace1, trace2, trace3]\n",
    "\n",
    "layout = go.Layout(\n",
    "    barmode='stack',\n",
    "    title='AGE Distribution'\n",
    ")\n",
    "\n",
    "\n",
    "fig = go.Figure(data=data, layout=layout)\n",
    "py.iplot(fig, filename='grouped-bar')"
   ]
  },
  {
   "cell_type": "markdown",
   "metadata": {},
   "source": [
    "- UttarPradesh having largest population over all the age group.\n",
    "- Bihar having largest 0-29 age group after Uttar pradesh, followed by Maharastra, West Bangal.\n",
    "- Maharastra having largest 30-49 age group after Uttar pradesh, followed by West Bangal, Andhara pradesh.\n",
    "- Maharastra having largest >50 age group after Uttar pradesh, followed by West Bangal, Andhara pradesh.\n",
    "- DAMAN AND DIU ,DADRA AND NAGAR HAVELI,Sikkim having smallest population among all the age group."
   ]
  },
  {
   "cell_type": "markdown",
   "metadata": {},
   "source": [
    "<a id=section4_4></a>"
   ]
  },
  {
   "cell_type": "markdown",
   "metadata": {},
   "source": [
    "#### 4.4 Different age group percentage in India"
   ]
  },
  {
   "cell_type": "code",
   "execution_count": 30,
   "metadata": {
    "collapsed": true
   },
   "outputs": [],
   "source": [
    "AGPI   = dataset_cencus_housing_elementry_GDP[['AGE_GROUP_0_29','AGE_GROUP_30_49','AGE_GROUP_50']].rename(columns={'AGE_GROUP_0_29':'0-29 YEARS','AGE_GROUP_30_49':'30-49 YEARS','AGE_GROUP_50':'50 YEARS & ABOVE'}).sum()\n",
    "AGPIdf = pd.DataFrame(AGPI)\n",
    "AGPIdf = AGPIdf.rename(columns={0:'AGE'})"
   ]
  },
  {
   "cell_type": "code",
   "execution_count": 31,
   "metadata": {},
   "outputs": [
    {
     "data": {
      "text/html": [
       "<iframe id=\"igraph\" scrolling=\"no\" style=\"border:none;\" seamless=\"seamless\" src=\"https://plot.ly/~ankur00000/4.embed\" height=\"525px\" width=\"100%\"></iframe>"
      ],
      "text/plain": [
       "<chart_studio.tools.PlotlyDisplay object>"
      ]
     },
     "execution_count": 31,
     "metadata": {},
     "output_type": "execute_result"
    }
   ],
   "source": [
    "labels = AGPIdf.index\n",
    "values = AGPIdf[\"AGE\"]\n",
    "\n",
    "trace = go.Pie(labels=labels, values=values)\n",
    "\n",
    "py.iplot([trace], filename='basic_pie_chart')"
   ]
  },
  {
   "cell_type": "markdown",
   "metadata": {},
   "source": [
    "<a id=section4_5></a>"
   ]
  },
  {
   "cell_type": "markdown",
   "metadata": {},
   "source": [
    "#### 4.5 Religion's distribution in India"
   ]
  },
  {
   "cell_type": "code",
   "execution_count": 33,
   "metadata": {
    "collapsed": true
   },
   "outputs": [],
   "source": [
    "IRPdf  = dataset_cencus_housing_elementry_GDP[['HINDUS','MUSLIMS','CHRISTIANS','SIKHS','BUDDHISTS','JAINS','OTHERS_RELIGIONS']].sum()\n",
    "IRPdfg = pd.DataFrame(IRPdf)\n",
    "IRPdfg = IRPdfg.rename(columns={0:'RELIGIONS'})"
   ]
  },
  {
   "cell_type": "code",
   "execution_count": 34,
   "metadata": {},
   "outputs": [
    {
     "data": {
      "text/html": [
       "<iframe id=\"igraph\" scrolling=\"no\" style=\"border:none;\" seamless=\"seamless\" src=\"https://plot.ly/~ankur00000/4.embed\" height=\"525px\" width=\"100%\"></iframe>"
      ],
      "text/plain": [
       "<chart_studio.tools.PlotlyDisplay object>"
      ]
     },
     "execution_count": 34,
     "metadata": {},
     "output_type": "execute_result"
    }
   ],
   "source": [
    "labels = IRPdfg.index\n",
    "values = IRPdfg[\"RELIGIONS\"]\n",
    "\n",
    "trace = go.Pie(labels=labels, values=values)\n",
    "\n",
    "py.iplot([trace], filename='basic_pie_chart')"
   ]
  },
  {
   "cell_type": "code",
   "execution_count": 35,
   "metadata": {
    "collapsed": true
   },
   "outputs": [],
   "source": [
    "IRPdf_line  = dataset_cencus_housing_elementry_GDP.groupby(['STATE NAME'])[['HINDUS','MUSLIMS','CHRISTIANS','SIKHS','BUDDHISTS','JAINS','OTHERS_RELIGIONS']].sum()"
   ]
  },
  {
   "cell_type": "code",
   "execution_count": 36,
   "metadata": {},
   "outputs": [
    {
     "name": "stdout",
     "output_type": "stream",
     "text": [
      "High five! You successfully sent some data to your account on plotly. View your plot in your browser at https://plot.ly/~ankur00000/0 or inside your plot.ly account where it is named 'grouped-bar'\n"
     ]
    },
    {
     "data": {
      "text/html": [
       "<iframe id=\"igraph\" scrolling=\"no\" style=\"border:none;\" seamless=\"seamless\" src=\"https://plot.ly/~ankur00000/0.embed\" height=\"525px\" width=\"100%\"></iframe>"
      ],
      "text/plain": [
       "<chart_studio.tools.PlotlyDisplay object>"
      ]
     },
     "execution_count": 36,
     "metadata": {},
     "output_type": "execute_result"
    }
   ],
   "source": [
    "\n",
    "trace1 = go.Bar(\n",
    "    x=IRPdf_line.index,\n",
    "    y=IRPdf_line[IRPdf_line.columns[0]],\n",
    "    name='Hindu'\n",
    ")\n",
    "trace2 = go.Bar(\n",
    "    x=IRPdf_line.index,\n",
    "    y=IRPdf_line[IRPdf_line.columns[1]],\n",
    "    name='Muslim'\n",
    ")\n",
    "trace3 = go.Bar(\n",
    "    x=IRPdf_line.index,\n",
    "    y=IRPdf_line[IRPdf_line.columns[2]],\n",
    "    name='Christans'\n",
    ")\n",
    "trace4 = go.Bar(\n",
    "    x=IRPdf_line.index,\n",
    "    y=IRPdf_line[IRPdf_line.columns[3]],\n",
    "    name='Sikh'\n",
    ")\n",
    "trace5 = go.Bar(\n",
    "    x=IRPdf_line.index,\n",
    "    y=IRPdf_line[IRPdf_line.columns[4]],\n",
    "    name='Buddists'\n",
    ")\n",
    "trace6 = go.Bar(\n",
    "    x=IRPdf_line.index,\n",
    "    y=IRPdf_line[IRPdf_line.columns[5]],\n",
    "    name='Jain'\n",
    ")\n",
    "trace7 = go.Bar(\n",
    "    x=IRPdf_line.index,\n",
    "    y=IRPdf_line[IRPdf_line.columns[6]],\n",
    "    name='Other'\n",
    ")\n",
    "\n",
    "data = [trace1, trace2, trace3, trace4, trace5, trace6, trace7]\n",
    "\n",
    "layout = go.Layout(\n",
    "    barmode='stack',\n",
    "    title='Religion Population'\n",
    ")\n",
    "\n",
    "\n",
    "fig = go.Figure(data=data, layout=layout)\n",
    "py.iplot(fig, filename='grouped-bar')"
   ]
  },
  {
   "cell_type": "markdown",
   "metadata": {},
   "source": [
    "- UTTAR PRADESH having larest population for 'Hindu', 'Muslim' religion.\n",
    "- Panjab having largest population for 'Sikh'.\n",
    "- Kerla , Tamilnadu having largest population for 'Christans'.\n",
    "- Maharastra, Madhya pradesh , Gujarat  having largest population for 'Jain'.\n",
    "- Maharastra,West Bengal and Arunachal pradesh having largest population for 'Buddists'.\n",
    "- Aasam having largest % of 'Muslim' Population.\n",
    "- Manipur having Almost same 'Hindu' and 'Christans'."
   ]
  },
  {
   "cell_type": "markdown",
   "metadata": {},
   "source": [
    "<a id=section4_6></a>"
   ]
  },
  {
   "cell_type": "markdown",
   "metadata": {},
   "source": [
    "#### 4.6 State wise SC populations percentage in India"
   ]
  },
  {
   "cell_type": "code",
   "execution_count": 37,
   "metadata": {
    "collapsed": true
   },
   "outputs": [],
   "source": [
    "SWSPIIdfg = dataset_cencus_housing_elementry_GDP.groupby(['STATE NAME'])[['SC']].sum()"
   ]
  },
  {
   "cell_type": "code",
   "execution_count": 38,
   "metadata": {},
   "outputs": [
    {
     "data": {
      "text/html": [
       "<iframe id=\"igraph\" scrolling=\"no\" style=\"border:none;\" seamless=\"seamless\" src=\"https://plot.ly/~ankur00000/4.embed\" height=\"525px\" width=\"100%\"></iframe>"
      ],
      "text/plain": [
       "<chart_studio.tools.PlotlyDisplay object>"
      ]
     },
     "execution_count": 38,
     "metadata": {},
     "output_type": "execute_result"
    }
   ],
   "source": [
    "labels = SWSPIIdfg.index\n",
    "values = SWSPIIdfg[\"SC\"]\n",
    "\n",
    "trace = go.Pie(labels=labels, values=values)\n",
    "\n",
    "py.iplot([trace], filename='basic_pie_chart')"
   ]
  },
  {
   "cell_type": "code",
   "execution_count": 39,
   "metadata": {
    "scrolled": false
   },
   "outputs": [
    {
     "data": {
      "text/html": [
       "<iframe id=\"igraph\" scrolling=\"no\" style=\"border:none;\" seamless=\"seamless\" src=\"https://plot.ly/~ankur00000/2.embed\" height=\"525px\" width=\"100%\"></iframe>"
      ],
      "text/plain": [
       "<chart_studio.tools.PlotlyDisplay object>"
      ]
     },
     "execution_count": 39,
     "metadata": {},
     "output_type": "execute_result"
    }
   ],
   "source": [
    "data = [go.Bar(\n",
    "            x=SWSPIIdfg.index,\n",
    "            y=SWSPIIdfg[\"SC\"]\n",
    "    )]\n",
    "\n",
    "py.iplot(data, filename='basic-bar')"
   ]
  },
  {
   "cell_type": "markdown",
   "metadata": {},
   "source": [
    "- Uttar pradesh,West Bengal, Bihar having largest population for SC.\n",
    "- Nagaland, Lakshdwip, Arunachal pradeh having least population for SC."
   ]
  },
  {
   "cell_type": "markdown",
   "metadata": {},
   "source": [
    "<a id=section4_7></a>"
   ]
  },
  {
   "cell_type": "markdown",
   "metadata": {},
   "source": [
    "#### 4.7 State wise ST populations percentage in India"
   ]
  },
  {
   "cell_type": "code",
   "execution_count": 40,
   "metadata": {
    "collapsed": true
   },
   "outputs": [],
   "source": [
    "SWSPIIdfg = dataset_cencus_housing_elementry_GDP.groupby(['STATE NAME'])[['ST']].sum()"
   ]
  },
  {
   "cell_type": "code",
   "execution_count": 41,
   "metadata": {},
   "outputs": [
    {
     "data": {
      "text/html": [
       "<iframe id=\"igraph\" scrolling=\"no\" style=\"border:none;\" seamless=\"seamless\" src=\"https://plot.ly/~ankur00000/4.embed\" height=\"525px\" width=\"100%\"></iframe>"
      ],
      "text/plain": [
       "<chart_studio.tools.PlotlyDisplay object>"
      ]
     },
     "execution_count": 41,
     "metadata": {},
     "output_type": "execute_result"
    }
   ],
   "source": [
    "labels = SWSPIIdfg.index\n",
    "values = SWSPIIdfg[\"ST\"]\n",
    "\n",
    "trace = go.Pie(labels=labels, values=values)\n",
    "\n",
    "py.iplot([trace], filename='basic_pie_chart')"
   ]
  },
  {
   "cell_type": "code",
   "execution_count": 42,
   "metadata": {
    "scrolled": false
   },
   "outputs": [
    {
     "data": {
      "text/html": [
       "<iframe id=\"igraph\" scrolling=\"no\" style=\"border:none;\" seamless=\"seamless\" src=\"https://plot.ly/~ankur00000/2.embed\" height=\"525px\" width=\"100%\"></iframe>"
      ],
      "text/plain": [
       "<chart_studio.tools.PlotlyDisplay object>"
      ]
     },
     "execution_count": 42,
     "metadata": {},
     "output_type": "execute_result"
    }
   ],
   "source": [
    "data = [go.Bar(\n",
    "            x=SWSPIIdfg.index,\n",
    "            y=SWSPIIdfg[\"ST\"]\n",
    "    )]\n",
    "\n",
    "py.iplot(data, filename='basic-bar')"
   ]
  },
  {
   "cell_type": "markdown",
   "metadata": {},
   "source": [
    "- Madhya Pradesh, Maharastra , Odisha having largest population for ST.\n",
    "- Daman & dip, Andaman & Nikobar, Lakshadwep having least population for ST."
   ]
  },
  {
   "cell_type": "markdown",
   "metadata": {},
   "source": [
    "<a id=section4_8></a>"
   ]
  },
  {
   "cell_type": "markdown",
   "metadata": {},
   "source": [
    "#### 4.8 Literacy Rate in different states of India"
   ]
  },
  {
   "cell_type": "code",
   "execution_count": 43,
   "metadata": {
    "collapsed": true
   },
   "outputs": [],
   "source": [
    "dataset_cencus_housing_elementry_GDP['LITERACY RATE'] = dataset_cencus_housing_elementry_GDP['LITERATE']/dataset_cencus_housing_elementry_GDP['POPULATION']*100\n",
    "SWLRIIdfg = dataset_cencus_housing_elementry_GDP.groupby(['STATE NAME'])[['LITERACY RATE']].mean().round(2)"
   ]
  },
  {
   "cell_type": "code",
   "execution_count": 44,
   "metadata": {},
   "outputs": [
    {
     "data": {
      "text/html": [
       "<iframe id=\"igraph\" scrolling=\"no\" style=\"border:none;\" seamless=\"seamless\" src=\"https://plot.ly/~ankur00000/2.embed\" height=\"525px\" width=\"100%\"></iframe>"
      ],
      "text/plain": [
       "<chart_studio.tools.PlotlyDisplay object>"
      ]
     },
     "execution_count": 44,
     "metadata": {},
     "output_type": "execute_result"
    }
   ],
   "source": [
    "data = [go.Bar(\n",
    "            x=SWLRIIdfg.index,\n",
    "            y=SWLRIIdfg[\"LITERACY RATE\"]\n",
    "    )]\n",
    "\n",
    "py.iplot(data, filename='basic-bar')"
   ]
  },
  {
   "cell_type": "markdown",
   "metadata": {},
   "source": [
    "- Kerala, Lakshdweep, Goa having most litrate population.\n",
    "- Bihar, Jharkhand and Arunachal pradesh having least litrate population."
   ]
  },
  {
   "cell_type": "markdown",
   "metadata": {},
   "source": [
    "<a id=section4_9></a>"
   ]
  },
  {
   "cell_type": "markdown",
   "metadata": {},
   "source": [
    "#### 4.9 Types of education level attended populations in different states of India"
   ]
  },
  {
   "cell_type": "code",
   "execution_count": 45,
   "metadata": {
    "collapsed": true
   },
   "outputs": [],
   "source": [
    "TELAPS = dataset_cencus_housing_elementry_GDP.groupby(['STATE NAME'])[['BELOW_PRIMARY_EDUCATION','PRIMARY_EDUCATION','MIDDLE_EDUCATION','SECONDARY_EDUCATION','HIGHER_EDUCATION','GRADUATE_EDUCATION','OTHER_EDUCATION']].sum()"
   ]
  },
  {
   "cell_type": "code",
   "execution_count": 46,
   "metadata": {},
   "outputs": [
    {
     "data": {
      "text/html": [
       "<iframe id=\"igraph\" scrolling=\"no\" style=\"border:none;\" seamless=\"seamless\" src=\"https://plot.ly/~ankur00000/6.embed\" height=\"525px\" width=\"100%\"></iframe>"
      ],
      "text/plain": [
       "<chart_studio.tools.PlotlyDisplay object>"
      ]
     },
     "execution_count": 46,
     "metadata": {},
     "output_type": "execute_result"
    }
   ],
   "source": [
    "trace1 = go.Scatter(\n",
    "    x = TELAPS.index,\n",
    "    y = TELAPS['BELOW_PRIMARY_EDUCATION'],\n",
    "    name=\"BELOW_PRIMARY_EDUCATION\"\n",
    ")\n",
    "trace2 = go.Scatter(\n",
    "    x = TELAPS.index,\n",
    "    y = TELAPS['PRIMARY_EDUCATION'],\n",
    "    name=\"PRIMARY_EDUCATION\"\n",
    ")\n",
    "trace3 = go.Scatter(\n",
    "    x = TELAPS.index,\n",
    "    y = TELAPS['MIDDLE_EDUCATION'],\n",
    "    name=\"MIDDLE_EDUCATION\"\n",
    ")\n",
    "trace4 = go.Scatter(\n",
    "    x = TELAPS.index,\n",
    "    y = TELAPS['SECONDARY_EDUCATION'],\n",
    "    name=\"SECONDARY_EDUCATION\"\n",
    ")\n",
    "trace5 = go.Scatter(\n",
    "    x = TELAPS.index,\n",
    "    y = TELAPS['HIGHER_EDUCATION'],\n",
    "    name=\"HIGHER_EDUCATION\"\n",
    ")\n",
    "trace6 = go.Scatter(\n",
    "    x = TELAPS.index,\n",
    "    y = TELAPS['GRADUATE_EDUCATION'],\n",
    "    name=\"GRADUATE_EDUCATION\"\n",
    ")\n",
    "trace7 = go.Scatter(\n",
    "    x = TELAPS.index,\n",
    "    y = TELAPS['OTHER_EDUCATION'],\n",
    "    name=\"OTHER_EDUCATION\"\n",
    ")\n",
    "\n",
    "data = [trace1, trace2, trace3, trace4, trace5, trace6, trace7]\n",
    "\n",
    "py.iplot(data, filename='basic-line')"
   ]
  },
  {
   "cell_type": "markdown",
   "metadata": {},
   "source": [
    "- Uttar pradesh , Maharastra, Tamilnadu having largest population for \"Grduate Education\".\n",
    "- Maharastra, Uttar pradesh having largest population for \"Secondary Education\".\n",
    "- Uttar pradesh ,Bihar , Madhya Pradesh having larest population for \"Below Primary Education\"."
   ]
  },
  {
   "cell_type": "markdown",
   "metadata": {},
   "source": [
    "<a id=section4_10></a>"
   ]
  },
  {
   "cell_type": "markdown",
   "metadata": {},
   "source": [
    "#### 4.10 Populations of different Types of Workers In different states of India"
   ]
  },
  {
   "cell_type": "code",
   "execution_count": 47,
   "metadata": {
    "collapsed": true
   },
   "outputs": [],
   "source": [
    "PODTWI = dataset_cencus_housing_elementry_GDP.groupby(['STATE NAME'])[['MAIN_WORKERS','MARGINAL_WORKERS','CULTIVATOR_WORKERS','AGRICULTURAL_WORKERS','HOUSEHOLD_WORKERS','NON_WORKERS']].sum()"
   ]
  },
  {
   "cell_type": "code",
   "execution_count": 48,
   "metadata": {
    "scrolled": false
   },
   "outputs": [
    {
     "data": {
      "text/html": [
       "<iframe id=\"igraph\" scrolling=\"no\" style=\"border:none;\" seamless=\"seamless\" src=\"https://plot.ly/~ankur00000/8.embed\" height=\"525px\" width=\"100%\"></iframe>"
      ],
      "text/plain": [
       "<chart_studio.tools.PlotlyDisplay object>"
      ]
     },
     "execution_count": 48,
     "metadata": {},
     "output_type": "execute_result"
    }
   ],
   "source": [
    "trace1 = go.Scatter(\n",
    "    x = PODTWI.index,\n",
    "    y = PODTWI['MAIN_WORKERS'],\n",
    "    name=\"MAIN_WORKERS\",\n",
    "    fill='tozeroy'\n",
    ")\n",
    "trace2 = go.Scatter(\n",
    "    x = PODTWI.index,\n",
    "    y = PODTWI['MARGINAL_WORKERS'],\n",
    "    name=\"MARGINAL_WORKERS\",\n",
    "    fill='tonexty'\n",
    ")\n",
    "trace3 = go.Scatter(\n",
    "    x = PODTWI.index,\n",
    "    y = PODTWI['CULTIVATOR_WORKERS'],\n",
    "    name=\"CULTIVATOR_WORKERS\",\n",
    "    fill='tonexty'\n",
    ")\n",
    "trace4 = go.Scatter(\n",
    "    x = PODTWI.index,\n",
    "    y = PODTWI['AGRICULTURAL_WORKERS'],\n",
    "    name=\"AGRICULTURAL_WORKERS\",\n",
    "    fill='tonexty'\n",
    ")\n",
    "trace5 = go.Scatter(\n",
    "    x = PODTWI.index,\n",
    "    y = PODTWI['HOUSEHOLD_WORKERS'],\n",
    "    name=\"HOUSEHOLD_WORKERS\",\n",
    "    fill='tonexty'\n",
    ")\n",
    "trace6 = go.Scatter(\n",
    "    x = PODTWI.index,\n",
    "    y = PODTWI['NON_WORKERS'],\n",
    "    name=\"NON_WORKERS\",\n",
    "    fill='tonexty'\n",
    ")\n",
    "\n",
    "\n",
    "data = [trace1, trace2, trace3, trace4, trace5, trace6]\n",
    "\n",
    "py.iplot(data, filename='basic-area')"
   ]
  },
  {
   "cell_type": "markdown",
   "metadata": {},
   "source": [
    "- Uttar Pradesh, Maharastra , Andhra Pradesh having largest population for 'Main Workers'\n",
    "- Uttar Pradesh, Bihar , Andhra Pradesh having largest population for 'Arguculture Workers'\n",
    "- Uttar Pradesh, West Bengal , Andhra Pradesh having largest population for 'HouseHold Workers'\n",
    "- Uttar Pradesh, Rajsthan , Maharastra having largest population for 'Cultivator Workers'"
   ]
  },
  {
   "cell_type": "markdown",
   "metadata": {},
   "source": [
    "<a id=section4_11></a>"
   ]
  },
  {
   "cell_type": "markdown",
   "metadata": {},
   "source": [
    "#### 4.11 State wise house hold size in different states of India"
   ]
  },
  {
   "cell_type": "code",
   "execution_count": 49,
   "metadata": {
    "collapsed": true
   },
   "outputs": [],
   "source": [
    "SWHSIDS = dataset_cencus_housing_elementry_GDP.groupby(['STATE NAME'])[['HOUSEHOLD_SIZE_1_PERSON_HOUSEHOLDS','HOUSEHOLD_SIZE_1_TO_2_PERSONS','HOUSEHOLD_SIZE_2_PERSONS_HOUSEHOLDS','HOUSEHOLD_SIZE_3_PERSONS_HOUSEHOLDS','HOUSEHOLD_SIZE_3_TO_5_PERSONS_HOUSEHOLDS','HOUSEHOLD_SIZE_4_PERSONS_HOUSEHOLDS','HOUSEHOLD_SIZE_5_PERSONS_HOUSEHOLDS','HOUSEHOLD_SIZE_6_8_PERSONS_HOUSEHOLDS','HOUSEHOLD_SIZE_9_PERSONS_AND_ABOVE_HOUSEHOLDS']].sum().rename(columns={'HOUSEHOLD_SIZE_1_PERSON_HOUSEHOLDS':'1 Person','HOUSEHOLD_SIZE_1_TO_2_PERSONS':'1-2 Persons','HOUSEHOLD_SIZE_2_PERSONS_HOUSEHOLDS':'2 Persons','HOUSEHOLD_SIZE_3_PERSONS_HOUSEHOLDS':'3 Persons','HOUSEHOLD_SIZE_3_TO_5_PERSONS_HOUSEHOLDS':'3-5 Persons','HOUSEHOLD_SIZE_4_PERSONS_HOUSEHOLDS':'4 Persons','HOUSEHOLD_SIZE_5_PERSONS_HOUSEHOLDS':'5 Persons','HOUSEHOLD_SIZE_6_8_PERSONS_HOUSEHOLDS':'6-8 Persons','HOUSEHOLD_SIZE_9_PERSONS_AND_ABOVE_HOUSEHOLDS':'9 Persons & Above'})"
   ]
  },
  {
   "cell_type": "code",
   "execution_count": 50,
   "metadata": {
    "scrolled": false
   },
   "outputs": [
    {
     "data": {
      "text/html": [
       "<iframe id=\"igraph\" scrolling=\"no\" style=\"border:none;\" seamless=\"seamless\" src=\"https://plot.ly/~ankur00000/6.embed\" height=\"525px\" width=\"100%\"></iframe>"
      ],
      "text/plain": [
       "<chart_studio.tools.PlotlyDisplay object>"
      ]
     },
     "execution_count": 50,
     "metadata": {},
     "output_type": "execute_result"
    }
   ],
   "source": [
    "data =[]\n",
    "\n",
    "for column in SWHSIDS.columns:\n",
    "    data.append(go.Scatter(\n",
    "    x = SWHSIDS.index,\n",
    "    y = SWHSIDS[column],\n",
    "    name=column,\n",
    "    ))\n",
    "py.iplot(data, filename='basic-line')"
   ]
  },
  {
   "cell_type": "markdown",
   "metadata": {},
   "source": [
    "- Andra Pradesh, Maharastra, TamilNadu having largest population for '1- person' family.\n",
    "- Uttar Pradesh, Bihar , Maharastra having largest population for '6-8 person' family."
   ]
  },
  {
   "cell_type": "markdown",
   "metadata": {},
   "source": [
    "<a id=section4_12></a>"
   ]
  },
  {
   "cell_type": "markdown",
   "metadata": {},
   "source": [
    "#### 4.12 State wise population percentage having different drinking water source in India"
   ]
  },
  {
   "cell_type": "code",
   "execution_count": 51,
   "metadata": {
    "collapsed": true
   },
   "outputs": [],
   "source": [
    "SWPPHDWF =  dataset_cencus_housing_elementry_GDP.groupby(['STATE NAME'])[['DW_TFTS','DW_TFUS','DW_CW','DW_UW','DW_HANDPUMP','DW_TB','DW_SPRING','DW_RC','DW_TPL','DW_OS']].mean().round(2).rename(columns={'DW_TFTS':'Tap water treated source','DW_TFUS':'Tap water untreated source','DW_CW':'Covered well','DW_UW':'Uncovered Well','DW_HANDPUMP':'Handpump','DW_TB':'Tubewell','DW_SPRING':'Spring','DW_RC':'River/Canal','DW_TPL':'Tank/Lake','DW_OS':'Other source'})"
   ]
  },
  {
   "cell_type": "code",
   "execution_count": 52,
   "metadata": {},
   "outputs": [
    {
     "data": {
      "text/html": [
       "<iframe id=\"igraph\" scrolling=\"no\" style=\"border:none;\" seamless=\"seamless\" src=\"https://plot.ly/~ankur00000/8.embed\" height=\"525px\" width=\"100%\"></iframe>"
      ],
      "text/plain": [
       "<chart_studio.tools.PlotlyDisplay object>"
      ]
     },
     "execution_count": 52,
     "metadata": {},
     "output_type": "execute_result"
    }
   ],
   "source": [
    "data =[]\n",
    "fill=lambda x: 'tozeroy' if(i==0) else 'tonexty'\n",
    "i=0\n",
    "for column in SWPPHDWF.columns:\n",
    "    data.append(go.Scatter(\n",
    "    x = SWPPHDWF.index,\n",
    "    y = SWPPHDWF[column],\n",
    "    name=column,\n",
    "    fill = fill(i)\n",
    "    ))\n",
    "    i+=1\n",
    "py.iplot(data, filename='basic-area')"
   ]
  },
  {
   "cell_type": "markdown",
   "metadata": {},
   "source": [
    "- Bihar , Uttarpradesh, Chhattisgadh having largest % for 'Handpump' water Source.\n",
    "- Manipur, Mizoram, Jammu & Kasmir having largest % for 'River/Canal' water Source.\n",
    "- Meghalay, Mizoram, Sikkim having largest % for 'spring' water source."
   ]
  },
  {
   "cell_type": "markdown",
   "metadata": {},
   "source": [
    "<a id=section4_13></a>"
   ]
  },
  {
   "cell_type": "markdown",
   "metadata": {},
   "source": [
    "#### 4.13 State wise Total GDP over the years"
   ]
  },
  {
   "cell_type": "code",
   "execution_count": 53,
   "metadata": {
    "collapsed": true
   },
   "outputs": [],
   "source": [
    "gdp_state_period  =INDIA_GDP_dataset[['1999-00', '2000-01', '2001-02', '2002-03', '2003-04',\n",
    "       '2004-05', '2005-06']].groupby('STATE NAME').sum()"
   ]
  },
  {
   "cell_type": "code",
   "execution_count": 54,
   "metadata": {},
   "outputs": [
    {
     "name": "stdout",
     "output_type": "stream",
     "text": [
      "High five! You successfully sent some data to your account on plotly. View your plot in your browser at https://plot.ly/~ankur00000/0 or inside your plot.ly account where it is named 'grouped-bar'\n"
     ]
    },
    {
     "data": {
      "text/html": [
       "<iframe id=\"igraph\" scrolling=\"no\" style=\"border:none;\" seamless=\"seamless\" src=\"https://plot.ly/~ankur00000/0.embed\" height=\"525px\" width=\"100%\"></iframe>"
      ],
      "text/plain": [
       "<chart_studio.tools.PlotlyDisplay object>"
      ]
     },
     "execution_count": 54,
     "metadata": {},
     "output_type": "execute_result"
    }
   ],
   "source": [
    "data =[]\n",
    "\n",
    "for column in gdp_state_period.index:\n",
    "    data.append(go.Scatter(\n",
    "    x = gdp_state_period.columns,\n",
    "    y = gdp_state_period.loc[column],\n",
    "    name=column,\n",
    "    ))\n",
    "layout = go.Layout(\n",
    "    barmode='stack',\n",
    "    title='States GDP over the years'\n",
    ")\n",
    "\n",
    "\n",
    "fig = go.Figure(data=data, layout=layout)\n",
    "py.iplot(fig, filename='grouped-bar')"
   ]
  },
  {
   "cell_type": "markdown",
   "metadata": {},
   "source": [
    "- Maharastra, UttarPradesh, West Bengal, Andra Pradesh having largest GDP over the years.\n",
    "- Sikkim, Mizoram , Arunachal Pradesh having least GDP over the years."
   ]
  },
  {
   "cell_type": "markdown",
   "metadata": {},
   "source": [
    "<a id=section4_14></a>"
   ]
  },
  {
   "cell_type": "markdown",
   "metadata": {},
   "source": [
    "#### 4.14 constant 10 max GDP over the years [District Level]"
   ]
  },
  {
   "cell_type": "code",
   "execution_count": 55,
   "metadata": {
    "collapsed": true
   },
   "outputs": [],
   "source": [
    "INDIA_GDP_dataset_large=INDIA_GDP_dataset[:].astype(str).astype(float).iloc[:,:6]\n",
    "INDIA_GDP_dataset_large=INDIA_GDP_dataset_large.nlargest(10,columns=INDIA_GDP_dataset_large.columns)"
   ]
  },
  {
   "cell_type": "code",
   "execution_count": 56,
   "metadata": {},
   "outputs": [
    {
     "data": {
      "text/html": [
       "<iframe id=\"igraph\" scrolling=\"no\" style=\"border:none;\" seamless=\"seamless\" src=\"https://plot.ly/~ankur00000/6.embed\" height=\"525px\" width=\"100%\"></iframe>"
      ],
      "text/plain": [
       "<chart_studio.tools.PlotlyDisplay object>"
      ]
     },
     "execution_count": 56,
     "metadata": {},
     "output_type": "execute_result"
    }
   ],
   "source": [
    "data =[]\n",
    "\n",
    "for column in range(len(INDIA_GDP_dataset_large.index)):\n",
    "    data.append(go.Scatter(\n",
    "    x = INDIA_GDP_dataset_large.columns,\n",
    "    y = INDIA_GDP_dataset_large.iloc[column],\n",
    "    name=INDIA_GDP_dataset_large.index.values[column][1]+'<='+INDIA_GDP_dataset_large.index.values[column][0]\n",
    "    ))\n",
    "    \n",
    "py.iplot(data, filename='basic-line')"
   ]
  },
  {
   "cell_type": "markdown",
   "metadata": {},
   "source": [
    "<a id=section4_15></a>"
   ]
  },
  {
   "cell_type": "markdown",
   "metadata": {},
   "source": [
    "#### 4.15 constant 10 min GDP over the years [District Level]"
   ]
  },
  {
   "cell_type": "code",
   "execution_count": 57,
   "metadata": {
    "collapsed": true
   },
   "outputs": [],
   "source": [
    "INDIA_GDP_dataset_small=INDIA_GDP_dataset[:].astype(str).astype(float).iloc[:,:6]\n",
    "INDIA_GDP_dataset_small=INDIA_GDP_dataset_small.nsmallest(10,columns=INDIA_GDP_dataset_large.columns)"
   ]
  },
  {
   "cell_type": "code",
   "execution_count": 58,
   "metadata": {},
   "outputs": [
    {
     "data": {
      "text/html": [
       "<iframe id=\"igraph\" scrolling=\"no\" style=\"border:none;\" seamless=\"seamless\" src=\"https://plot.ly/~ankur00000/6.embed\" height=\"525px\" width=\"100%\"></iframe>"
      ],
      "text/plain": [
       "<chart_studio.tools.PlotlyDisplay object>"
      ]
     },
     "execution_count": 58,
     "metadata": {},
     "output_type": "execute_result"
    }
   ],
   "source": [
    "data =[]\n",
    "\n",
    "for column in range(len(INDIA_GDP_dataset_small.index)):\n",
    "    data.append(go.Scatter(\n",
    "    x = INDIA_GDP_dataset_small.columns,\n",
    "    y = INDIA_GDP_dataset_small.iloc[column],\n",
    "    name=INDIA_GDP_dataset_small.index.values[column][1]+'<='+INDIA_GDP_dataset_small.index.values[column][0]\n",
    "    ))\n",
    "\n",
    "py.iplot(data, filename='basic-line')"
   ]
  },
  {
   "cell_type": "markdown",
   "metadata": {},
   "source": [
    "<a id=section4_16></a>"
   ]
  },
  {
   "cell_type": "markdown",
   "metadata": {},
   "source": [
    "#### 4.16  constant 10 max GR over the years with respect to '2005-06' [District Level]"
   ]
  },
  {
   "cell_type": "code",
   "execution_count": 59,
   "metadata": {
    "collapsed": true
   },
   "outputs": [],
   "source": [
    "INDIA_GR_dataset_large=INDIA_GR_dataset[:].astype(str).astype(float).iloc[:,:6]\n",
    "INDIA_GR_dataset_large=INDIA_GR_dataset_large.nlargest(10,columns='2005-06')"
   ]
  },
  {
   "cell_type": "code",
   "execution_count": 60,
   "metadata": {},
   "outputs": [
    {
     "name": "stdout",
     "output_type": "stream",
     "text": [
      "High five! You successfully sent some data to your account on plotly. View your plot in your browser at https://plot.ly/~ankur00000/0 or inside your plot.ly account where it is named 'grouped-bar'\n"
     ]
    },
    {
     "data": {
      "text/html": [
       "<iframe id=\"igraph\" scrolling=\"no\" style=\"border:none;\" seamless=\"seamless\" src=\"https://plot.ly/~ankur00000/0.embed\" height=\"525px\" width=\"100%\"></iframe>"
      ],
      "text/plain": [
       "<chart_studio.tools.PlotlyDisplay object>"
      ]
     },
     "execution_count": 60,
     "metadata": {},
     "output_type": "execute_result"
    }
   ],
   "source": [
    "drowLineChart(INDIA_GR_dataset_large,'10 max GR over the years with respect to 2005-06 year')"
   ]
  },
  {
   "cell_type": "markdown",
   "metadata": {},
   "source": [
    "<a id=section4_17></a>"
   ]
  },
  {
   "cell_type": "markdown",
   "metadata": {},
   "source": [
    "#### 4.17 constant 10 min GR over the years with respect to 2005-06 year [District Level]"
   ]
  },
  {
   "cell_type": "code",
   "execution_count": 61,
   "metadata": {
    "collapsed": true
   },
   "outputs": [],
   "source": [
    "INDIA_GR_dataset_small=INDIA_GR_dataset[:].astype(str).astype(float).iloc[:,:6]\n",
    "INDIA_GR_dataset_small=INDIA_GR_dataset_small.nsmallest(10,columns='2005-06')"
   ]
  },
  {
   "cell_type": "code",
   "execution_count": 62,
   "metadata": {},
   "outputs": [
    {
     "name": "stdout",
     "output_type": "stream",
     "text": [
      "High five! You successfully sent some data to your account on plotly. View your plot in your browser at https://plot.ly/~ankur00000/0 or inside your plot.ly account where it is named 'grouped-bar'\n"
     ]
    },
    {
     "data": {
      "text/html": [
       "<iframe id=\"igraph\" scrolling=\"no\" style=\"border:none;\" seamless=\"seamless\" src=\"https://plot.ly/~ankur00000/0.embed\" height=\"525px\" width=\"100%\"></iframe>"
      ],
      "text/plain": [
       "<chart_studio.tools.PlotlyDisplay object>"
      ]
     },
     "execution_count": 62,
     "metadata": {},
     "output_type": "execute_result"
    }
   ],
   "source": [
    "drowLineChart(INDIA_GR_dataset_small,'10 min GR over the years with respect to 2005-06 year')"
   ]
  },
  {
   "cell_type": "markdown",
   "metadata": {},
   "source": [
    "<a id=section4_18></a>"
   ]
  },
  {
   "cell_type": "markdown",
   "metadata": {},
   "source": [
    "#### 4.18  Constant 10 max/min GDP over the years, why?"
   ]
  },
  {
   "cell_type": "markdown",
   "metadata": {},
   "source": [
    "##### Based on below parameter\n",
    "\n",
    "\n",
    "- 1 Area\n",
    "- 2 Population\n",
    "- 3 Workers\n",
    "    - a) Total\n",
    "    - b) 'MALE_WORKERS','FEMALE_WORKERS'\n",
    "    - c) Type of Workers \n",
    "- 4 Household\n",
    "   -  a) Types of household \n",
    "   -  b) Resource of household \n",
    "   -  c) ownership of household \n",
    "   -  d) size of household \n",
    "   -  e) couple of household \n",
    "- 5 based on Age Group \n",
    "- 6 based on power parity "
   ]
  },
  {
   "cell_type": "markdown",
   "metadata": {},
   "source": [
    "<a id=section4_18_0></a>"
   ]
  },
  {
   "cell_type": "markdown",
   "metadata": {},
   "source": [
    "##### 4.18.0 Pre defined Functions"
   ]
  },
  {
   "cell_type": "code",
   "execution_count": 63,
   "metadata": {
    "collapsed": true
   },
   "outputs": [],
   "source": [
    "def getSmallerGDPData(dataset):\n",
    "    data =[]\n",
    "\n",
    "    for i in range(len(INDIA_GDP_dataset_small.index.values)):\n",
    "        try:\n",
    "            data.append([INDIA_GDP_dataset_small.index.values[i][0],INDIA_GDP_dataset_small.index.values[i][1]] + dataset.loc[INDIA_GDP_dataset_small.index.values[i][0],INDIA_GDP_dataset_small.index.values[i][1]].values.tolist())\n",
    "        except:\n",
    "            print(\"Error in for loop at iteration no : \",i)\n",
    "    smaller_gdp_data=pd.DataFrame(data,columns=['STATE NAME','DISTRICT NAME']+dataset.columns.values.tolist())\n",
    "    smaller_gdp_data.set_index(['STATE NAME','DISTRICT NAME'],inplace = True)\n",
    "    return smaller_gdp_data\n",
    "\n",
    "def getLargerGDPData(dataset):\n",
    "    data =[]\n",
    "\n",
    "    for i in range(len(INDIA_GDP_dataset_large.index.values)):\n",
    "        try:\n",
    "            data.append([INDIA_GDP_dataset_large.index.values[i][0],INDIA_GDP_dataset_large.index.values[i][1]] + dataset.loc[INDIA_GDP_dataset_large.index.values[i][0],INDIA_GDP_dataset_large.index.values[i][1]].values.tolist())\n",
    "        except:\n",
    "            print(\"Error in for loop at iteration no : \",i)\n",
    "    larger_gdp_data=pd.DataFrame(data,columns=['STATE NAME','DISTRICT NAME']+dataset.columns.values.tolist())\n",
    "    larger_gdp_data.set_index(['STATE NAME','DISTRICT NAME'],inplace = True)\n",
    "    return larger_gdp_data"
   ]
  },
  {
   "cell_type": "code",
   "execution_count": 64,
   "metadata": {
    "collapsed": true
   },
   "outputs": [],
   "source": [
    "def getDataForSubplot(dataset,graphName):\n",
    "    data =[]\n",
    "\n",
    "    for column in dataset.columns:\n",
    "        data.append(go.Scatter(\n",
    "        x = dataset.index.get_level_values(1).values,\n",
    "        y = dataset[column],\n",
    "        name=column,\n",
    "        ))\n",
    "   \n",
    "    return data"
   ]
  },
  {
   "cell_type": "code",
   "execution_count": 65,
   "metadata": {
    "collapsed": true
   },
   "outputs": [],
   "source": [
    "def plotSubplot(dataList,titleList,htmlName,docTital,parameterList):\n",
    "    fichier_html_graphs=open(htmlName,'w')\n",
    "    fichier_html_graphs.write(\"<html><head>\")\n",
    "   # fichier_html_graphs.write(docTital)\n",
    "    fichier_html_graphs.write(\"</head><body>\"+\"\\n\")\n",
    "\n",
    "    for i in range(len(dataList)):\n",
    "        #______________________________--Plotly--______________________________________\n",
    "\n",
    "\n",
    "        color1 = '#00bfff'\n",
    "        color2 = '#ff4000'\n",
    "\n",
    "        data = dataList[i]\n",
    "\n",
    "        layout = go.Layout(\n",
    "            title= (titleList[i]),\n",
    "            titlefont=dict(\n",
    "            family='Courier New, monospace',\n",
    "            size=15,\n",
    "            color='#7f7f7f'\n",
    "            ),\n",
    "            paper_bgcolor='rgba(0,0,0,0)',\n",
    "            plot_bgcolor='rgba(0,0,0,0)',\n",
    "\n",
    "            yaxis=dict(\n",
    "                title=parameterList[i],\n",
    "                titlefont=dict(\n",
    "                    color=color1\n",
    "                ),\n",
    "                tickfont=dict(\n",
    "                    color=color1\n",
    "                )\n",
    "            ),\n",
    "            yaxis2=dict(\n",
    "                title='Ratio %',\n",
    "                overlaying='y',\n",
    "                side='right',\n",
    "                titlefont=dict(\n",
    "                    color=color2\n",
    "                ),\n",
    "                tickfont=dict(\n",
    "                    color=color2\n",
    "                )\n",
    "\n",
    "            )\n",
    "\n",
    "        )\n",
    "        fig = go.Figure(data=data, layout=layout)\n",
    "        plotly.offline.plot(fig, filename=titleList[i]+'.html',auto_open=False)\n",
    "        fichier_html_graphs.write(\"  <object data=\\\"\"+titleList[i]+'.html'+\"\\\" width=\\\"650\\\" height=\\\"600\\\"></object>\"+\"\\n\")\n",
    "    fichier_html_graphs.write(\"</body></html>\")\n",
    "    print(\"Check your\"+ htmlName +\"In the current directory\")"
   ]
  },
  {
   "cell_type": "markdown",
   "metadata": {},
   "source": [
    "<a id=section4_18_1></a>"
   ]
  },
  {
   "cell_type": "markdown",
   "metadata": {},
   "source": [
    "###### 4.18.1 Area"
   ]
  },
  {
   "cell_type": "code",
   "execution_count": 66,
   "metadata": {
    "collapsed": true
   },
   "outputs": [],
   "source": [
    "dataset_cencus_housing_elementry_GDP.rename(columns={'AREA (SQ. KM) (AREA SQKM)':'AREA SQKM'}, inplace= True)\n",
    "dataList =[]\n",
    "titleList=[]\n",
    "parameterList =[]\n",
    "\n",
    "columnsName= ['AREA SQKM']\n",
    "larger_gdp_area =getDataForSubplot(getLargerGDPData(getDataSet(columnsName)),\"Larger GDP/ Area\")\n",
    "smaller_gdp_area =getDataForSubplot(getSmallerGDPData(getDataSet(columnsName)),\"Smaller GDP/ Area\")\n",
    "\n",
    "dataList = [larger_gdp_area, smaller_gdp_area]\n",
    "titleList = [\"Larger GDP Reason Area\",\"Smaller GDP Reason Area\"]\n",
    "parameterList = [\"Area SQKM\",\"Area SQKM\"]"
   ]
  },
  {
   "cell_type": "markdown",
   "metadata": {},
   "source": [
    "- Area is not much greater factor for largest/least GDP at District Level."
   ]
  },
  {
   "cell_type": "markdown",
   "metadata": {},
   "source": [
    "<a id=section4_18_2></a>"
   ]
  },
  {
   "cell_type": "markdown",
   "metadata": {},
   "source": [
    "#### 4.18.2 Population"
   ]
  },
  {
   "cell_type": "code",
   "execution_count": 67,
   "metadata": {
    "collapsed": true
   },
   "outputs": [],
   "source": [
    "columnsName= ['POPULATION']\n",
    "\n",
    "larger_gdp_population =getDataForSubplot(getLargerGDPData(getDataSet(columnsName)),\"Larger GDP/ Population\")\n",
    "smaller_gdp_population =getDataForSubplot(getSmallerGDPData(getDataSet(columnsName)),\"Smaller GDP/ Population\")\n",
    "\n",
    "dataList = dataList+ [larger_gdp_population, smaller_gdp_population]\n",
    "titleList = titleList+ [\"Larger GDP Reason Population\",\"Smaller GDP Reason Population\"]\n",
    "parameterList = parameterList + [\"Population\",\"Population\"]"
   ]
  },
  {
   "cell_type": "markdown",
   "metadata": {},
   "source": [
    "- Population is a good factor for largest/least GDP at District Level."
   ]
  },
  {
   "cell_type": "markdown",
   "metadata": {},
   "source": [
    "<a id=section4_18_3></a>"
   ]
  },
  {
   "cell_type": "markdown",
   "metadata": {},
   "source": [
    "#### 4.18.3 Workers"
   ]
  },
  {
   "cell_type": "markdown",
   "metadata": {},
   "source": [
    "<a id=section4_18_3a></a>"
   ]
  },
  {
   "cell_type": "markdown",
   "metadata": {},
   "source": [
    "- a) Total"
   ]
  },
  {
   "cell_type": "code",
   "execution_count": 68,
   "metadata": {
    "collapsed": true
   },
   "outputs": [],
   "source": [
    "columnsName= ['WORKERS']\n",
    "\n",
    "larger_gdp_total_worker =getDataForSubplot(getLargerGDPData(getDataSet(columnsName)),\"Larger GDP/ Total Worker\")\n",
    "smaller_gdp_total_worker =getDataForSubplot(getSmallerGDPData(getDataSet(columnsName)),\"Smaller GDP/ Total Worker\")\n",
    "\n",
    "dataList = dataList+ [larger_gdp_total_worker, smaller_gdp_total_worker]\n",
    "titleList = titleList+ [\"Larger GDP  Reason Total Worker\",\"Smaller GDP  Reason Total Worker\"]\n",
    "parameterList = parameterList + [\"Total Worker\",\"Total Worker\"]"
   ]
  },
  {
   "cell_type": "markdown",
   "metadata": {},
   "source": [
    "- Total Workers is a good factor for largest/least GDP at District Level."
   ]
  },
  {
   "cell_type": "markdown",
   "metadata": {},
   "source": [
    "<a id=section4_18_3b></a>"
   ]
  },
  {
   "cell_type": "markdown",
   "metadata": {},
   "source": [
    "- b) 'MALE_WORKERS','FEMALE_WORKERS'"
   ]
  },
  {
   "cell_type": "code",
   "execution_count": 69,
   "metadata": {
    "collapsed": true
   },
   "outputs": [],
   "source": [
    "columnsName= ['MALE_WORKERS','FEMALE_WORKERS']\n",
    "\n",
    "larger_gdp_gender_worker =getDataForSubplot(getLargerGDPData(getDataSet(columnsName)),\"Larger GDP/ Gender Worker\")\n",
    "smaller_gdp_gender_worker =getDataForSubplot(getSmallerGDPData(getDataSet(columnsName)),\"Smaller GDP/ Gender Worker\")\n",
    "\n",
    "dataList = dataList+ [larger_gdp_gender_worker, smaller_gdp_gender_worker]\n",
    "titleList = titleList+ [\"Larger GDP  Reason Gender Worker\",\"Smaller GDP  Reason Gender Worker\"]\n",
    "parameterList = parameterList + [\"Gender Worker\",\"Gender Worker\"]"
   ]
  },
  {
   "cell_type": "markdown",
   "metadata": {},
   "source": [
    "- Male worker is always greater than Female worker.\n",
    "- Gender Worker (Catogery) is a good factor for largest/least GDP at District Level."
   ]
  },
  {
   "cell_type": "markdown",
   "metadata": {},
   "source": [
    "<a id=section4_18_3c></a>"
   ]
  },
  {
   "cell_type": "markdown",
   "metadata": {},
   "source": [
    "- c) Type of Workers"
   ]
  },
  {
   "cell_type": "code",
   "execution_count": 70,
   "metadata": {
    "collapsed": true
   },
   "outputs": [],
   "source": [
    "columnsName= ['MAIN_WORKERS','MARGINAL_WORKERS','NON_WORKERS','CULTIVATOR_WORKERS','AGRICULTURAL_WORKERS','HOUSEHOLD_WORKERS','OTHER_WORKERS']\n",
    "\n",
    "larger_gdp_type_worker =getDataForSubplot(getLargerGDPData(getDataSet(columnsName)),\"Larger GDP/ Type Worker\")\n",
    "smaller_gdp_type_worker =getDataForSubplot(getSmallerGDPData(getDataSet(columnsName)),\"Smaller GDP/ Type Worker\")\n",
    "\n",
    "dataList = dataList+ [larger_gdp_type_worker, smaller_gdp_type_worker]\n",
    "titleList = titleList+ [\"Larger GDP Reason Type Worker\",\"Smaller GDP Reason Type Worker\"]\n",
    "parameterList = parameterList + [\"Type Worker\",\"Type Worker\"]"
   ]
  },
  {
   "cell_type": "markdown",
   "metadata": {},
   "source": [
    "<a id=section4_18_4></a>"
   ]
  },
  {
   "cell_type": "markdown",
   "metadata": {},
   "source": [
    "#### 4.18.4 Household"
   ]
  },
  {
   "cell_type": "markdown",
   "metadata": {},
   "source": [
    "<a id=section4_18_4a></a>"
   ]
  },
  {
   "cell_type": "markdown",
   "metadata": {},
   "source": [
    "   -  a) Facility of household "
   ]
  },
  {
   "cell_type": "code",
   "execution_count": 71,
   "metadata": {
    "collapsed": true
   },
   "outputs": [],
   "source": [
    "columnsName= ['LPG_OR_PNG_HOUSEHOLDS','HOUSHOLDS_WITH_ELECTRIC_LIGHTING','HOUSEHOLDS_WITH_INTERNET','HOUSEHOLDS_WITH_COMPUTER','RURAL_HOUSEHOLDS','URBAN_HOUSEHOLDS','HOUSEHOLDS']\n",
    "larger_gdp_facility=getLargerGDPData(getDataSet(columnsName))\n",
    "smaller_gdp_facility=getSmallerGDPData(getDataSet(columnsName))\n",
    "\n",
    "larger_gdp_facility.rename(columns={    'LPG_OR_PNG_HOUSEHOLDS':'LPG/PNG',    'HOUSHOLDS_WITH_ELECTRIC_LIGHTING' :'Electric',    'HOUSEHOLDS_WITH_INTERNET':'INERNET',    'HOUSEHOLDS_WITH_COMPUTER':'COMPUTER',    'RURAL_HOUSEHOLDS':'RURAL',    'URBAN_HOUSEHOLDS':'URBAN'},inplace =True)\n",
    "smaller_gdp_facility.rename(columns={    'LPG_OR_PNG_HOUSEHOLDS':'LPG/PNG',    'HOUSHOLDS_WITH_ELECTRIC_LIGHTING' :'Electric',    'HOUSEHOLDS_WITH_INTERNET':'INERNET',    'HOUSEHOLDS_WITH_COMPUTER':'COMPUTER',    'RURAL_HOUSEHOLDS':'RURAL',    'URBAN_HOUSEHOLDS':'URBAN'},inplace =True)\n",
    "\n",
    "larger_gdp_facility_household =getDataForSubplot(larger_gdp_facility,\"Larger GDP/ Facility household\")\n",
    "smaller_gdp_facility_household =getDataForSubplot(smaller_gdp_facility,\"Smaller GDP/ Facility household\")\n",
    "\n",
    "dataList = dataList+ [larger_gdp_facility_household, smaller_gdp_facility_household]\n",
    "titleList = titleList+ [\"Larger GDP  Facility household\",\"Smaller GDP  Facility household\"]\n",
    "parameterList = parameterList + [\"Facility household\",\"Facility household\"]"
   ]
  },
  {
   "cell_type": "markdown",
   "metadata": {},
   "source": [
    "<a id=section4_18_4b></a>"
   ]
  },
  {
   "cell_type": "markdown",
   "metadata": {},
   "source": [
    "   -  b) Resource of household "
   ]
  },
  {
   "cell_type": "code",
   "execution_count": 72,
   "metadata": {
    "collapsed": true
   },
   "outputs": [],
   "source": [
    "columnsName= ['HOUSEHOLDS_WITH_BICYCLE','HOUSEHOLDS_WITH_CAR_JEEP_VAN','HOUSEHOLDS_WITH_RADIO_TRANSISTOR','HOUSEHOLDS_WITH_SCOOTER_MOTORCYCLE_MOPED','HOUSEHOLDS_WITH_TELEPHONE_MOBILE_PHONE_LANDLINE_ONLY','HOUSEHOLDS_WITH_TELEPHONE_MOBILE_PHONE_MOBILE_ONLY','HOUSEHOLDS_WITH_TV_COMPUTER_LAPTOP_TELEPHONE_MOBILE_PHONE_AND_SCOOTER_CAR','HOUSEHOLDS_WITH_TELEVISION','HOUSEHOLDS_WITH_TELEPHONE_MOBILE_PHONE','HOUSEHOLDS_WITH_TELEPHONE_MOBILE_PHONE_BOTH','CONDITION_OF_OCCUPIED_CENSUS_HOUSES_DILAPIDATED_HOUSEHOLDS','HOUSEHOLDS_WITH_SEPARATE_KITCHEN_COOKING_INSIDE_HOUSE','HAVING_BATHING_FACILITY_TOTAL_HOUSEHOLDS','HAVING_LATRINE_FACILITY_WITHIN_THE_PREMISES_TOTAL_HOUSEHOLDS']\n",
    "larger_gdp_resource=getLargerGDPData(getDataSet(columnsName))\n",
    "smaller_gdp_resource=getSmallerGDPData(getDataSet(columnsName))\n",
    "\n",
    "larger_gdp_resource.rename(columns={    'HOUSEHOLDS_WITH_BICYCLE': 'BICYCLE',    'HOUSEHOLDS_WITH_CAR_JEEP_VAN' : 'CAR/JEEP/VAN',    'HOUSEHOLDS_WITH_RADIO_TRANSISTOR': 'RADIO/TRANSISTOR',    'HOUSEHOLDS_WITH_SCOOTER_MOTORCYCLE_MOPED': 'MOTORCYCLE',    'HOUSEHOLDS_WITH_TELEPHONE_MOBILE_PHONE_LANDLINE_ONLY': 'LANDLINE ONLY',    'HOUSEHOLDS_WITH_TELEPHONE_MOBILE_PHONE_MOBILE_ONLY': 'MOBILE ONLY',    'HOUSEHOLDS_WITH_TV_COMPUTER_LAPTOP_TELEPHONE_MOBILE_PHONE_AND_SCOOTER_CAR':'ALL',    'HOUSEHOLDS_WITH_TELEVISION':'TV',    'HOUSEHOLDS_WITH_TELEPHONE_MOBILE_PHONE':'TV & PHONE',    'HOUSEHOLDS_WITH_TELEPHONE_MOBILE_PHONE_BOTH':'MOBILE & LANDLINE',    'CONDITION_OF_OCCUPIED_CENSUS_HOUSES_DILAPIDATED_HOUSEHOLDS':'DILAPIDATED',    'HOUSEHOLDS_WITH_SEPARATE_KITCHEN_COOKING_INSIDE_HOUSE':'SEPARATE_KITCHEN',    'HAVING_BATHING_FACILITY_TOTAL_HOUSEHOLDS':'BATHING_FACILITY',    'HAVING_LATRINE_FACILITY_WITHIN_THE_PREMISES_TOTAL_HOUSEHOLDS':'LATRINE_FACILITY'}, inplace= True)\n",
    "smaller_gdp_resource.rename(columns={    'HOUSEHOLDS_WITH_BICYCLE': 'BICYCLE',    'HOUSEHOLDS_WITH_CAR_JEEP_VAN' : 'CAR/JEEP/VAN',    'HOUSEHOLDS_WITH_RADIO_TRANSISTOR': 'RADIO/TRANSISTOR',    'HOUSEHOLDS_WITH_SCOOTER_MOTORCYCLE_MOPED': 'MOTORCYCLE',    'HOUSEHOLDS_WITH_TELEPHONE_MOBILE_PHONE_LANDLINE_ONLY': 'LANDLINE ONLY',    'HOUSEHOLDS_WITH_TELEPHONE_MOBILE_PHONE_MOBILE_ONLY': 'MOBILE ONLY',    'HOUSEHOLDS_WITH_TV_COMPUTER_LAPTOP_TELEPHONE_MOBILE_PHONE_AND_SCOOTER_CAR':'ALL',    'HOUSEHOLDS_WITH_TELEVISION':'TV',    'HOUSEHOLDS_WITH_TELEPHONE_MOBILE_PHONE':'TV & PHONE',    'HOUSEHOLDS_WITH_TELEPHONE_MOBILE_PHONE_BOTH':'MOBILE & LANDLINE',    'CONDITION_OF_OCCUPIED_CENSUS_HOUSES_DILAPIDATED_HOUSEHOLDS':'DILAPIDATED',    'HOUSEHOLDS_WITH_SEPARATE_KITCHEN_COOKING_INSIDE_HOUSE':'SEPARATE_KITCHEN',    'HAVING_BATHING_FACILITY_TOTAL_HOUSEHOLDS':'BATHING_FACILITY',    'HAVING_LATRINE_FACILITY_WITHIN_THE_PREMISES_TOTAL_HOUSEHOLDS':'LATRINE_FACILITY'}, inplace= True)                                    \n",
    "                                       \n",
    "larger_gdp_resource_household =getDataForSubplot(larger_gdp_resource,\"Larger GDP/ Resource household\")\n",
    "smaller_gdp_resource_household =getDataForSubplot(smaller_gdp_resource,\"Smaller GDP/ Resource household\")\n",
    "\n",
    "dataList = dataList+ [larger_gdp_resource_household, smaller_gdp_resource_household]\n",
    "titleList = titleList+ [\"Larger GDP  Resource household\",\"Smaller GDP  Resource household\"]\n",
    "parameterList = parameterList + [\"Resource household\",\"Resource household\"]"
   ]
  },
  {
   "cell_type": "markdown",
   "metadata": {},
   "source": [
    "<a id=section4_18_4c></a>"
   ]
  },
  {
   "cell_type": "markdown",
   "metadata": {},
   "source": [
    "   -  c) ownership of household "
   ]
  },
  {
   "cell_type": "code",
   "execution_count": 73,
   "metadata": {
    "collapsed": true
   },
   "outputs": [],
   "source": [
    "columnsName= ['OWNERSHIP_OWNED_HOUSEHOLDS','OWNERSHIP_RENTED_HOUSEHOLDS']\n",
    "larger_gdp_owner=getLargerGDPData(getDataSet(columnsName))\n",
    "smaller_gdp_owner=getSmallerGDPData(getDataSet(columnsName))\n",
    "                \n",
    "larger_gdp_owner.rename(columns={    'OWNERSHIP_OWNED_HOUSEHOLDS':'OWNED',    'OWNERSHIP_RENTED_HOUSEHOLDS':'RENTED'},inplace = True)\n",
    "smaller_gdp_owner.rename(columns={    'OWNERSHIP_OWNED_HOUSEHOLDS':'OWNED',    'OWNERSHIP_RENTED_HOUSEHOLDS':'RENTED'},inplace = True)\n",
    "                                    \n",
    "larger_gdp_owner_household =getDataForSubplot(larger_gdp_owner,\"Larger GDP/ Owner household\")\n",
    "smaller_gdp_owner_household =getDataForSubplot(smaller_gdp_owner,\"Smaller GDP/ Owner household\")\n",
    "\n",
    "dataList = dataList+ [larger_gdp_owner_household, smaller_gdp_owner_household]\n",
    "titleList = titleList+ [\"Larger GDP Owner household\",\"Smaller GDP Owner household\"]\n",
    "parameterList = parameterList + [\"Owner household\",\"Owner household\"]"
   ]
  },
  {
   "cell_type": "markdown",
   "metadata": {},
   "source": [
    "<a id=section4_18_4d></a>"
   ]
  },
  {
   "cell_type": "markdown",
   "metadata": {},
   "source": [
    "   -  d) size of household "
   ]
  },
  {
   "cell_type": "code",
   "execution_count": 74,
   "metadata": {
    "collapsed": true
   },
   "outputs": [],
   "source": [
    "columnsName= ['HOUSEHOLD_SIZE_1_PERSON_HOUSEHOLDS','HOUSEHOLD_SIZE_2_PERSONS_HOUSEHOLDS','HOUSEHOLD_SIZE_1_TO_2_PERSONS','HOUSEHOLD_SIZE_3_PERSONS_HOUSEHOLDS','HOUSEHOLD_SIZE_3_TO_5_PERSONS_HOUSEHOLDS','HOUSEHOLD_SIZE_4_PERSONS_HOUSEHOLDS','HOUSEHOLD_SIZE_5_PERSONS_HOUSEHOLDS','HOUSEHOLD_SIZE_6_8_PERSONS_HOUSEHOLDS','HOUSEHOLD_SIZE_9_PERSONS_AND_ABOVE_HOUSEHOLDS']\n",
    "larger_gdp_size=getLargerGDPData(getDataSet(columnsName))\n",
    "smaller_gdp_size=getSmallerGDPData(getDataSet(columnsName))\n",
    " \n",
    "larger_gdp_size.rename(columns={    'HOUSEHOLD_SIZE_1_PERSON_HOUSEHOLDS':'1_PERSON',    'HOUSEHOLD_SIZE_2_PERSONS_HOUSEHOLDS':'2_PERSON',    'HOUSEHOLD_SIZE_1_TO_2_PERSONS':'1-2_PERSON',    'HOUSEHOLD_SIZE_3_PERSONS_HOUSEHOLDS': '3_PERSONS',    'HOUSEHOLD_SIZE_3_TO_5_PERSONS_HOUSEHOLDS' : '3-5_PERSONS',    'HOUSEHOLD_SIZE_4_PERSONS_HOUSEHOLDS' : '4_PERSONS',    'HOUSEHOLD_SIZE_5_PERSONS_HOUSEHOLDS' : '5_PERSONS',    'HOUSEHOLD_SIZE_6_8_PERSONS_HOUSEHOLDS' : '6-8_PERSON',    'HOUSEHOLD_SIZE_9_PERSONS_AND_ABOVE_HOUSEHOLDS' : '>9_PERSON'}, inplace = True)                                   \n",
    "smaller_gdp_size.rename(columns={    'HOUSEHOLD_SIZE_1_PERSON_HOUSEHOLDS':'1_PERSON',    'HOUSEHOLD_SIZE_2_PERSONS_HOUSEHOLDS':'2_PERSON',    'HOUSEHOLD_SIZE_1_TO_2_PERSONS':'1-2_PERSON',    'HOUSEHOLD_SIZE_3_PERSONS_HOUSEHOLDS': '3_PERSONS',    'HOUSEHOLD_SIZE_3_TO_5_PERSONS_HOUSEHOLDS' : '3-5_PERSONS',    'HOUSEHOLD_SIZE_4_PERSONS_HOUSEHOLDS' : '4_PERSONS',    'HOUSEHOLD_SIZE_5_PERSONS_HOUSEHOLDS' : '5_PERSONS',    'HOUSEHOLD_SIZE_6_8_PERSONS_HOUSEHOLDS' : '6-8_PERSON',    'HOUSEHOLD_SIZE_9_PERSONS_AND_ABOVE_HOUSEHOLDS' : '>9_PERSON'}, inplace = True)                                   \n",
    "                                   \n",
    "larger_gdp_size_household =getDataForSubplot(larger_gdp_size,\"Larger GDP/ Size household\")\n",
    "smaller_gdp_size_household =getDataForSubplot(smaller_gdp_size,\"Smaller GDP/ Size household\")\n",
    "\n",
    "dataList = dataList+ [larger_gdp_size_household, smaller_gdp_size_household]\n",
    "titleList = titleList+ [\"Larger GDP Size household\",\"Smaller GDP Size household\"]\n",
    "parameterList = parameterList + [\"Size household\",\"Size household\"]"
   ]
  },
  {
   "cell_type": "markdown",
   "metadata": {},
   "source": [
    "<a id=section4_18_4e></a>"
   ]
  },
  {
   "cell_type": "markdown",
   "metadata": {},
   "source": [
    "   -  e) couple of household "
   ]
  },
  {
   "cell_type": "code",
   "execution_count": 75,
   "metadata": {
    "collapsed": true
   },
   "outputs": [],
   "source": [
    "columnsName= ['MARRIED_COUPLES_1_HOUSEHOLDS','MARRIED_COUPLES_2_HOUSEHOLDS','MARRIED_COUPLES_3_HOUSEHOLDS','MARRIED_COUPLES_3_OR_MORE_HOUSEHOLDS','MARRIED_COUPLES_4_HOUSEHOLDS','MARRIED_COUPLES_5__HOUSEHOLDS','MARRIED_COUPLES_NONE_HOUSEHOLDS']\n",
    "larger_gdp_couple=getLargerGDPData(getDataSet(columnsName))\n",
    "smaller_gdp_couple=getSmallerGDPData(getDataSet(columnsName))\n",
    "              \n",
    "larger_gdp_couple.rename(columns={    'MARRIED_COUPLES_1_HOUSEHOLDS':'1_Couples',    'MARRIED_COUPLES_2_HOUSEHOLDS':'2_Couples',    'MARRIED_COUPLES_3_HOUSEHOLDS':'3_Couples',    'MARRIED_COUPLES_3_OR_MORE_HOUSEHOLDS':'>3_Couples',    'MARRIED_COUPLES_4_HOUSEHOLDS':'4_Couples',    'MARRIED_COUPLES_5__HOUSEHOLDS':'5_Couples',    'MARRIED_COUPLES_NONE_HOUSEHOLDS':'0_Couples'},inplace= True)\n",
    "smaller_gdp_couple.rename(columns={    'MARRIED_COUPLES_1_HOUSEHOLDS':'1_Couples',    'MARRIED_COUPLES_2_HOUSEHOLDS':'2_Couples',    'MARRIED_COUPLES_3_HOUSEHOLDS':'3_Couples',    'MARRIED_COUPLES_3_OR_MORE_HOUSEHOLDS':'>3_Couples',    'MARRIED_COUPLES_4_HOUSEHOLDS':'4_Couples',    'MARRIED_COUPLES_5__HOUSEHOLDS':'5_Couples',    'MARRIED_COUPLES_NONE_HOUSEHOLDS':'0_Couples'},inplace= True)\n",
    "                                     \n",
    "larger_gdp_couple_household =getDataForSubplot(larger_gdp_couple,\"Larger GDP/ Couple household\")\n",
    "smaller_gdp_couple_household =getDataForSubplot(smaller_gdp_couple,\"Smaller GDP/ Couple household\")\n",
    "\n",
    "dataList = dataList+ [larger_gdp_couple_household, smaller_gdp_couple_household]\n",
    "titleList = titleList+ [\"Larger GDP Couple household\",\"Smaller GDP Couple household\"]\n",
    "parameterList = parameterList + [\"Couple household\",\"Couple household\"]\n"
   ]
  },
  {
   "cell_type": "markdown",
   "metadata": {},
   "source": [
    "<a id=section4_18_5></a>"
   ]
  },
  {
   "cell_type": "markdown",
   "metadata": {},
   "source": [
    "#### 4.18.5 based on Age Group"
   ]
  },
  {
   "cell_type": "code",
   "execution_count": 76,
   "metadata": {
    "collapsed": true
   },
   "outputs": [],
   "source": [
    "columnsName= ['AGE_GROUP_0_29','AGE_GROUP_30_49','AGE_GROUP_50','AGE NOT STATED']\n",
    "larger_gdp_age=getLargerGDPData(getDataSet(columnsName))\n",
    "smaller_gdp_age=getSmallerGDPData(getDataSet(columnsName))\n",
    "\n",
    "larger_gdp_age.rename(columns={    'AGE_GROUP_0_29':'0-29',    'AGE_GROUP_30_49':'30-49',    'AGE_GROUP_50':'>50',    'AGE NOT STATED':'NOT STATED'})\n",
    "smaller_gdp_age.rename(columns={    'AGE_GROUP_0_29':'0-29',    'AGE_GROUP_30_49':'30-49',    'AGE_GROUP_50':'>50',    'AGE NOT STATED':'NOT STATED'})\n",
    "                                  \n",
    "larger_gdp_age_group =getDataForSubplot(larger_gdp_age,\"Larger GDP/ Age Group\")\n",
    "smaller_gdp_age_group =getDataForSubplot(smaller_gdp_age,\"Smaller GDP/ Age Group\")\n",
    "\n",
    "dataList = dataList+ [larger_gdp_age_group, smaller_gdp_age_group]\n",
    "titleList = titleList+ [\"Larger GDP Couple household\",\"Smaller GDP Couple household\"]\n",
    "parameterList = parameterList + [\"Age Group \",\"Age Group\"]"
   ]
  },
  {
   "cell_type": "markdown",
   "metadata": {},
   "source": [
    "<a id=section4_18_6></a>"
   ]
  },
  {
   "cell_type": "markdown",
   "metadata": {},
   "source": [
    "#### 4.18.6 based on power parity"
   ]
  },
  {
   "cell_type": "code",
   "execution_count": 77,
   "metadata": {
    "collapsed": true
   },
   "outputs": [],
   "source": [
    "columnsName= ['POWER_PARITY_LESS_THAN_RS_45000','POWER_PARITY_RS_45000_90000','POWER_PARITY_RS_90000_150000','POWER_PARITY_RS_45000_150000','POWER_PARITY_RS_150000_240000','POWER_PARITY_RS_240000_330000','POWER_PARITY_RS_150000_330000','POWER_PARITY_RS_330000_425000','POWER_PARITY_RS_425000_545000','POWER_PARITY_RS_330000_545000','POWER_PARITY_ABOVE_RS_545000','TOTAL_POWER_PARITY']\n",
    "larger_gdp_power=getLargerGDPData(getDataSet(columnsName))\n",
    "smaller_gdp_power=getSmallerGDPData(getDataSet(columnsName))\n",
    "\n",
    "larger_gdp_power.rename(columns={    'POWER_PARITY_LESS_THAN_RS_45000':'< RS_45000',    'POWER_PARITY_RS_45000_90000':'RS_45000-90000',    'POWER_PARITY_RS_90000_150000':'RS_90000-150000',    'POWER_PARITY_RS_45000_150000':'RS_45000-150000',    'POWER_PARITY_RS_150000_240000':'RS_150000-240000',    'POWER_PARITY_RS_240000_330000' : 'RS_240000-330000',    'POWER_PARITY_RS_150000_330000':'RS_150000-330000',    'POWER_PARITY_RS_330000_425000' : 'RS_330000-425000',    'POWER_PARITY_RS_425000_545000' : 'RS_425000_545000',    'POWER_PARITY_RS_330000_545000': 'RS_330000-545000',    'POWER_PARITY_ABOVE_RS_545000':'>RS_545000',    'TOTAL_POWER_PARITY':'Total'},inplace = True)                                    \n",
    "smaller_gdp_power.rename(columns={    'POWER_PARITY_LESS_THAN_RS_45000':'< RS_45000',    'POWER_PARITY_RS_45000_90000':'RS_45000-90000',    'POWER_PARITY_RS_90000_150000':'RS_90000-150000',    'POWER_PARITY_RS_45000_150000':'RS_45000-150000',    'POWER_PARITY_RS_150000_240000':'RS_150000-240000',    'POWER_PARITY_RS_240000_330000' : 'RS_240000-330000',    'POWER_PARITY_RS_150000_330000':'RS_150000-330000',    'POWER_PARITY_RS_330000_425000' : 'RS_330000-425000',    'POWER_PARITY_RS_425000_545000' : 'RS_425000_545000',    'POWER_PARITY_RS_330000_545000': 'RS_330000-545000',    'POWER_PARITY_ABOVE_RS_545000':'>RS_545000',    'TOTAL_POWER_PARITY':'Total'},inplace = True)                                                                        \n",
    "\n",
    "larger_gdp_power_parity =getDataForSubplot(larger_gdp_power,\"Larger GDP/ Power Parity\")\n",
    "smaller_gdp_power_parity =getDataForSubplot(smaller_gdp_power,\"Smaller GDP/ Power Parity\")\n",
    "\n",
    "dataList = dataList+ [larger_gdp_couple_household, smaller_gdp_couple_household]\n",
    "titleList = titleList+ [\"Larger GDP Power Parity\",\"Smaller GDP Power Parity\"]\n",
    "parameterList = parameterList + [\"Power Parity\",\"Power Parity\"]"
   ]
  },
  {
   "cell_type": "code",
   "execution_count": 78,
   "metadata": {},
   "outputs": [
    {
     "name": "stdout",
     "output_type": "stream",
     "text": [
      "Check yourIndia_GDP_Analysis.htmlIn the current directory\n"
     ]
    }
   ],
   "source": [
    "htmlName = \"India_GDP_Analysis.html\"\n",
    "docTital =\"GDP - India\"\n",
    "\n",
    "plotSubplot(dataList,titleList,htmlName,docTital,parameterList)"
   ]
  },
  {
   "cell_type": "markdown",
   "metadata": {},
   "source": [
    "<a id=section4_19></a>"
   ]
  },
  {
   "cell_type": "markdown",
   "metadata": {},
   "source": [
    "#### 4.19 constant 10 max/min growth rate over the years, why ?"
   ]
  },
  {
   "cell_type": "markdown",
   "metadata": {},
   "source": [
    "##### Based on below parameter\n",
    "\n",
    "\n",
    "- 1 Area\n",
    "- 2 Population\n",
    "- 3 Literacy\n",
    "- 4 Sex Ratio\n",
    "- 5 % SC/ST Population"
   ]
  },
  {
   "cell_type": "code",
   "execution_count": 79,
   "metadata": {
    "collapsed": true
   },
   "outputs": [],
   "source": [
    "def getSmallerGRData(dataset):\n",
    "    data =[]\n",
    "\n",
    "    for i in range(len(INDIA_GR_dataset_small.index.values)):\n",
    "        try:\n",
    "            data.append([INDIA_GR_dataset_small.index.values[i][0],INDIA_GR_dataset_small.index.values[i][1]] + dataset.loc[INDIA_GR_dataset_small.index.values[i][0],INDIA_GR_dataset_small.index.values[i][1]].values.tolist())\n",
    "        except:\n",
    "            print()#\"Error in for loop at iteration no : \",i)\n",
    "    smaller_gr_data=pd.DataFrame(data,columns=['STATE NAME','DISTRICT NAME']+dataset.columns.values.tolist())\n",
    "    smaller_gr_data.set_index(['STATE NAME','DISTRICT NAME'],inplace = True)\n",
    "    return smaller_gr_data\n",
    "\n",
    "def getLargerGRData(dataset):\n",
    "    data =[]\n",
    "\n",
    "    for i in range(len(INDIA_GR_dataset_large.index.values)):\n",
    "        try:\n",
    "            data.append([INDIA_GR_dataset_large.index.values[i][0],INDIA_GR_dataset_large.index.values[i][1]] + dataset.loc[INDIA_GR_dataset_large.index.values[i][0],INDIA_GR_dataset_large.index.values[i][1]].values.tolist())\n",
    "        except:\n",
    "            print()#\"getLargerGRData:::Error in for loop at iteration no : \",i)\n",
    "    larger_gr_data=pd.DataFrame(data,columns=['STATE NAME','DISTRICT NAME']+dataset.columns.values.tolist())\n",
    "    larger_gr_data.set_index(['STATE NAME','DISTRICT NAME'],inplace = True)\n",
    "    return larger_gr_data"
   ]
  },
  {
   "cell_type": "markdown",
   "metadata": {},
   "source": [
    "<a id=section4_19_1></a>"
   ]
  },
  {
   "cell_type": "markdown",
   "metadata": {},
   "source": [
    "#### 4.19.1 Area"
   ]
  },
  {
   "cell_type": "code",
   "execution_count": 80,
   "metadata": {},
   "outputs": [
    {
     "name": "stdout",
     "output_type": "stream",
     "text": [
      "\n"
     ]
    }
   ],
   "source": [
    "dataList_GR =[]\n",
    "titleList_GR=[]\n",
    "parameterList_GR =[]\n",
    "\n",
    "columnsName= ['AREA SQKM']\n",
    "larger_gr_area =getDataForSubplot(getLargerGRData(getDataSet(columnsName)),\"Larger GR/ Area\")\n",
    "smaller_gr_area =getDataForSubplot(getSmallerGRData(getDataSet(columnsName)),\"Smaller GR/ Area\")\n",
    "\n",
    "dataList_GR = [larger_gr_area, smaller_gr_area]\n",
    "titleList_GR = [\"Larger GR : Reason Area\",\"Smaller GR : Reason Area\"]\n",
    "parameterList_GR = [\"Area SQKM\",\"Area SQKM\"]"
   ]
  },
  {
   "cell_type": "markdown",
   "metadata": {},
   "source": [
    "<a id=section4_19_2></a>"
   ]
  },
  {
   "cell_type": "markdown",
   "metadata": {},
   "source": [
    "#### 4.19.2 Population"
   ]
  },
  {
   "cell_type": "code",
   "execution_count": 81,
   "metadata": {},
   "outputs": [
    {
     "name": "stdout",
     "output_type": "stream",
     "text": [
      "\n"
     ]
    }
   ],
   "source": [
    "columnsName= ['POPULATION']\n",
    "\n",
    "larger_gr_population =getDataForSubplot(getLargerGRData(getDataSet(columnsName)),\"Larger GR/ Population\")\n",
    "smaller_gr_population =getDataForSubplot(getSmallerGRData(getDataSet(columnsName)),\"Smaller GR/ Population\")\n",
    "\n",
    "dataList_GR = dataList_GR+ [larger_gr_population, smaller_gr_population]\n",
    "titleList_GR = titleList_GR+ [\"Larger GR : Reason Population\",\"Smaller GR : Reason Population\"]\n",
    "parameterList_GR = parameterList_GR + [\"Population\",\"Population\"]"
   ]
  },
  {
   "cell_type": "markdown",
   "metadata": {},
   "source": [
    "<a id=section4_19_3></a>"
   ]
  },
  {
   "cell_type": "markdown",
   "metadata": {},
   "source": [
    "#### 4.19.3 Literacy"
   ]
  },
  {
   "cell_type": "code",
   "execution_count": 82,
   "metadata": {},
   "outputs": [
    {
     "name": "stdout",
     "output_type": "stream",
     "text": [
      "\n"
     ]
    }
   ],
   "source": [
    "columnsName =['OVERALL LITERACY','FEMALE LITERACY','MALE LITERACY']\n",
    "larger_gr_literacy =getDataForSubplot(getLargerGRData(getDataSet(columnsName)),\"Larger GR/ Literacy\")\n",
    "smaller_gr_literacy =getDataForSubplot(getSmallerGRData(getDataSet(columnsName)),\"Smaller GR/ Literacy\")\n",
    "\n",
    "dataList_GR = dataList_GR+ [larger_gr_literacy, smaller_gr_literacy]\n",
    "titleList_GR = titleList_GR+ [\"Larger GR : Reason Literacy\",\"Smaller GR : Reason Literacy\"]\n",
    "parameterList_GR = parameterList_GR + [\"Literacy\",\"Literacy\"]"
   ]
  },
  {
   "cell_type": "markdown",
   "metadata": {},
   "source": [
    "<a id=section4_19_4></a>"
   ]
  },
  {
   "cell_type": "markdown",
   "metadata": {},
   "source": [
    "#### 4.19.4 Sex Ratio"
   ]
  },
  {
   "cell_type": "code",
   "execution_count": 83,
   "metadata": {},
   "outputs": [
    {
     "name": "stdout",
     "output_type": "stream",
     "text": [
      "\n"
     ]
    }
   ],
   "source": [
    "columnsName =['SEX RATIO']\n",
    "larger_gr_sex_ratio =getDataForSubplot(getLargerGRData(getDataSet(columnsName)),\"Larger GR/ SEX RATIO\")\n",
    "smaller_gr_sex_ratio =getDataForSubplot(getSmallerGRData(getDataSet(columnsName)),\"Smaller GR/ SEX RATIO\")\n",
    "\n",
    "dataList_GR = dataList_GR+ [larger_gr_sex_ratio, smaller_gr_sex_ratio]\n",
    "titleList_GR = titleList_GR+ [\"Larger GR : Reason SEX RATIO\",\"Smaller GR : Reason SEX RATIO\"]\n",
    "parameterList_GR = parameterList_GR + [\"Population\",\"SEX RATIO\"]"
   ]
  },
  {
   "cell_type": "markdown",
   "metadata": {},
   "source": [
    "<a id=section4_19_5></a>"
   ]
  },
  {
   "cell_type": "markdown",
   "metadata": {},
   "source": [
    "#### 4.19.5 % SC/ST Population"
   ]
  },
  {
   "cell_type": "code",
   "execution_count": 84,
   "metadata": {},
   "outputs": [
    {
     "name": "stdout",
     "output_type": "stream",
     "text": [
      "\n"
     ]
    }
   ],
   "source": [
    "columnsName =['PERCENTAGE SC POPULATION','PERCENTAGE ST POPULATION']\n",
    "\n",
    "larger_gr_sc_st=getLargerGRData(getDataSet(columnsName))\n",
    "smaller_gr_sc_st=getSmallerGRData(getDataSet(columnsName))\n",
    "\n",
    "larger_gr_sc_st.rename(columns={    'PERCENTAGE SC POPULATION':'% SC',    'PERCENTAGE ST POPULATION':'% ST'},inplace =True)\n",
    "smaller_gr_sc_st.rename(columns={    'PERCENTAGE SC POPULATION':'% SC',    'PERCENTAGE ST POPULATION':'% ST'},inplace =True)\n",
    "\n",
    "larger_gr_sc_st_per =getDataForSubplot(larger_gr_sc_st,\"Larger GR/SC_ST_Population\")\n",
    "smaller_gr_sc_st_per=getDataForSubplot(smaller_gr_sc_st,\"Smaller GR/SC_ST_Population\")\n",
    "\n",
    "dataList_GR = dataList_GR+ [larger_gr_sc_st_per, smaller_gr_sc_st_per]\n",
    "titleList_GR = titleList_GR+ [\"Larger_GR_Reason_SC_ST_Population\",\"Smaller GR _ Reason SC_ST_Population\"]\n",
    "parameterList_GR = parameterList_GR + [\"SC/ST Population\",\"SC/ST Population\"]"
   ]
  },
  {
   "cell_type": "code",
   "execution_count": 85,
   "metadata": {},
   "outputs": [
    {
     "name": "stdout",
     "output_type": "stream",
     "text": [
      "Check yourIndia_GR_Analysis.htmlIn the current directory\n"
     ]
    }
   ],
   "source": [
    "htmlName_GR = \"India_GR_Analysis.html\"\n",
    "docTital_GR =\"GR - India\"\n",
    "\n",
    "plotSubplot(dataList_GR,titleList_GR,htmlName_GR,docTital_GR,parameterList_GR)"
   ]
  },
  {
   "cell_type": "markdown",
   "metadata": {},
   "source": [
    "<a id=section5></a>"
   ]
  },
  {
   "cell_type": "markdown",
   "metadata": {},
   "source": [
    "### 5. Conclusion "
   ]
  },
  {
   "cell_type": "markdown",
   "metadata": {
    "collapsed": true
   },
   "source": [
    "- With the help of this Analysis we found basic knowledge for Area,Population,Religion,sex ratio ... for the states.\n",
    "- We found the top ten largest & least GDP district and factors behind it.\n",
    "- We found the top ten largest & least GR district and factors behind it."
   ]
  }
 ],
 "metadata": {
  "kernelspec": {
   "display_name": "Python 3",
   "language": "python",
   "name": "python3"
  },
  "language_info": {
   "codemirror_mode": {
    "name": "ipython",
    "version": 3
   },
   "file_extension": ".py",
   "mimetype": "text/x-python",
   "name": "python",
   "nbconvert_exporter": "python",
   "pygments_lexer": "ipython3",
   "version": "3.6.2"
  }
 },
 "nbformat": 4,
 "nbformat_minor": 2
}
